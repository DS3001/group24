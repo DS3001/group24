{
 "cells": [
  {
   "cell_type": "code",
   "execution_count": null,
   "metadata": {
    "id": "aEaOKJ16bJje"
   },
   "outputs": [],
   "source": [
    "Group 24 Project"
   ]
  },
  {
   "cell_type": "code",
   "execution_count": null,
   "metadata": {
    "id": "jRBPEeC0dJQQ"
   },
   "outputs": [],
   "source": [
    "How does trauma relate to income levels\n",
    "\n",
    "\n",
    "Potential variables to use:\n",
    "- Tratot5: trauma last five years\n",
    "- Divorce5: divorce last five years\n",
    "- Hitage: beaten as a child or adult\n",
    "- Arrest: have you been picked up or charged by police\n",
    "- Income16: income in 2016"
   ]
  },
  {
   "cell_type": "code",
   "execution_count": 1,
   "metadata": {},
   "outputs": [],
   "source": [
    "# load in data\n",
    "import pandas as pd\n",
    "import os"
   ]
  },
  {
   "cell_type": "code",
   "execution_count": 2,
   "metadata": {},
   "outputs": [],
   "source": [
    "# get file path and read the .csv\n",
    "cwd = os.getcwd() \n",
    "file_path = os.path.join(cwd, 'gss.csv') \n",
    "df = pd.read_csv(file_path, low_memory=False)"
   ]
  },
  {
   "cell_type": "code",
   "execution_count": 5,
   "metadata": {},
   "outputs": [
    {
     "data": {
      "text/plain": [
       "0   NaN\n",
       "1   NaN\n",
       "2   NaN\n",
       "3   NaN\n",
       "4   NaN\n",
       "Name: tratot5, dtype: float64"
      ]
     },
     "execution_count": 5,
     "metadata": {},
     "output_type": "execute_result"
    }
   ],
   "source": [
    "df['tratot5'].head()"
   ]
  },
  {
   "cell_type": "code",
   "execution_count": 6,
   "metadata": {},
   "outputs": [
    {
     "data": {
      "text/html": [
       "<div>\n",
       "<style scoped>\n",
       "    .dataframe tbody tr th:only-of-type {\n",
       "        vertical-align: middle;\n",
       "    }\n",
       "\n",
       "    .dataframe tbody tr th {\n",
       "        vertical-align: top;\n",
       "    }\n",
       "\n",
       "    .dataframe thead th {\n",
       "        text-align: right;\n",
       "    }\n",
       "</style>\n",
       "<table border=\"1\" class=\"dataframe\">\n",
       "  <thead>\n",
       "    <tr style=\"text-align: right;\">\n",
       "      <th></th>\n",
       "      <th>tratot5</th>\n",
       "      <th>divorce5</th>\n",
       "      <th>hitage</th>\n",
       "      <th>arrest</th>\n",
       "      <th>income16</th>\n",
       "    </tr>\n",
       "  </thead>\n",
       "  <tbody>\n",
       "    <tr>\n",
       "      <th>0</th>\n",
       "      <td>NaN</td>\n",
       "      <td>NaN</td>\n",
       "      <td>NaN</td>\n",
       "      <td>NaN</td>\n",
       "      <td>NaN</td>\n",
       "    </tr>\n",
       "    <tr>\n",
       "      <th>1</th>\n",
       "      <td>NaN</td>\n",
       "      <td>NaN</td>\n",
       "      <td>NaN</td>\n",
       "      <td>NaN</td>\n",
       "      <td>NaN</td>\n",
       "    </tr>\n",
       "    <tr>\n",
       "      <th>2</th>\n",
       "      <td>NaN</td>\n",
       "      <td>NaN</td>\n",
       "      <td>NaN</td>\n",
       "      <td>NaN</td>\n",
       "      <td>NaN</td>\n",
       "    </tr>\n",
       "    <tr>\n",
       "      <th>3</th>\n",
       "      <td>NaN</td>\n",
       "      <td>NaN</td>\n",
       "      <td>NaN</td>\n",
       "      <td>NaN</td>\n",
       "      <td>NaN</td>\n",
       "    </tr>\n",
       "    <tr>\n",
       "      <th>4</th>\n",
       "      <td>NaN</td>\n",
       "      <td>NaN</td>\n",
       "      <td>NaN</td>\n",
       "      <td>NaN</td>\n",
       "      <td>NaN</td>\n",
       "    </tr>\n",
       "  </tbody>\n",
       "</table>\n",
       "</div>"
      ],
      "text/plain": [
       "   tratot5 divorce5 hitage arrest income16\n",
       "0      NaN      NaN    NaN    NaN      NaN\n",
       "1      NaN      NaN    NaN    NaN      NaN\n",
       "2      NaN      NaN    NaN    NaN      NaN\n",
       "3      NaN      NaN    NaN    NaN      NaN\n",
       "4      NaN      NaN    NaN    NaN      NaN"
      ]
     },
     "execution_count": 6,
     "metadata": {},
     "output_type": "execute_result"
    }
   ],
   "source": [
    "vlist = ['tratot5','divorce5','hitage','arrest','income16'] # keep only wanted variables\n",
    "gss_filter = df.filter(vlist) # create new filtered dataset\n",
    "gss_filter.head()"
   ]
  },
  {
   "cell_type": "code",
   "execution_count": 7,
   "metadata": {},
   "outputs": [],
   "source": [
    "gss_filter.to_csv('gss_filter.csv', index=False) # save filtered dataset"
   ]
  },
  {
   "cell_type": "code",
   "execution_count": 13,
   "metadata": {
    "scrolled": true
   },
   "outputs": [],
   "source": [
    "cwd = os.getcwd() \n",
    "file_path = os.path.join(cwd, 'gss_filter.csv')\n",
    "gss_filter = pd.read_csv(file_path, low_memory=False)"
   ]
  },
  {
   "cell_type": "code",
   "execution_count": 20,
   "metadata": {
    "scrolled": true
   },
   "outputs": [
    {
     "data": {
      "text/html": [
       "<div>\n",
       "<style scoped>\n",
       "    .dataframe tbody tr th:only-of-type {\n",
       "        vertical-align: middle;\n",
       "    }\n",
       "\n",
       "    .dataframe tbody tr th {\n",
       "        vertical-align: top;\n",
       "    }\n",
       "\n",
       "    .dataframe thead th {\n",
       "        text-align: right;\n",
       "    }\n",
       "</style>\n",
       "<table border=\"1\" class=\"dataframe\">\n",
       "  <thead>\n",
       "    <tr style=\"text-align: right;\">\n",
       "      <th></th>\n",
       "      <th>tratot5</th>\n",
       "      <th>divorce5</th>\n",
       "      <th>hitage</th>\n",
       "      <th>arrest</th>\n",
       "      <th>income16</th>\n",
       "    </tr>\n",
       "  </thead>\n",
       "  <tbody>\n",
       "    <tr>\n",
       "      <th>0</th>\n",
       "      <td>NaN</td>\n",
       "      <td>NaN</td>\n",
       "      <td>NaN</td>\n",
       "      <td>NaN</td>\n",
       "      <td>NaN</td>\n",
       "    </tr>\n",
       "    <tr>\n",
       "      <th>1</th>\n",
       "      <td>NaN</td>\n",
       "      <td>NaN</td>\n",
       "      <td>NaN</td>\n",
       "      <td>NaN</td>\n",
       "      <td>NaN</td>\n",
       "    </tr>\n",
       "    <tr>\n",
       "      <th>2</th>\n",
       "      <td>NaN</td>\n",
       "      <td>NaN</td>\n",
       "      <td>NaN</td>\n",
       "      <td>NaN</td>\n",
       "      <td>NaN</td>\n",
       "    </tr>\n",
       "    <tr>\n",
       "      <th>3</th>\n",
       "      <td>NaN</td>\n",
       "      <td>NaN</td>\n",
       "      <td>NaN</td>\n",
       "      <td>NaN</td>\n",
       "      <td>NaN</td>\n",
       "    </tr>\n",
       "    <tr>\n",
       "      <th>4</th>\n",
       "      <td>NaN</td>\n",
       "      <td>NaN</td>\n",
       "      <td>NaN</td>\n",
       "      <td>NaN</td>\n",
       "      <td>NaN</td>\n",
       "    </tr>\n",
       "  </tbody>\n",
       "</table>\n",
       "</div>"
      ],
      "text/plain": [
       "   tratot5 divorce5 hitage arrest income16\n",
       "0      NaN      NaN    NaN    NaN      NaN\n",
       "1      NaN      NaN    NaN    NaN      NaN\n",
       "2      NaN      NaN    NaN    NaN      NaN\n",
       "3      NaN      NaN    NaN    NaN      NaN\n",
       "4      NaN      NaN    NaN    NaN      NaN"
      ]
     },
     "execution_count": 20,
     "metadata": {},
     "output_type": "execute_result"
    }
   ],
   "source": [
    "gss_filter.head()"
   ]
  },
  {
   "cell_type": "code",
   "execution_count": 35,
   "metadata": {},
   "outputs": [
    {
     "data": {
      "text/plain": [
       "(72390, 5)"
      ]
     },
     "execution_count": 35,
     "metadata": {},
     "output_type": "execute_result"
    }
   ],
   "source": [
    "gss_filter.shape"
   ]
  },
  {
   "cell_type": "code",
   "execution_count": 29,
   "metadata": {},
   "outputs": [
    {
     "name": "stdout",
     "output_type": "stream",
     "text": [
      "tratot5: [nan  4.  1.  5.  2.  3.  0.  6.  7.]\n",
      "divorce5: [nan 'none' 'prior 4 years' 'last year' 'both']\n",
      "hitage: [nan 'child' 'both' 'adult']\n",
      "arrest: [nan 'no' 'yes' 'refused_(3)']\n",
      "income16: [nan '$170,000 or over' '$50,000 to $59,999' '$75,000 to $89,999'\n",
      " '$60,000 to $74,999' '$30,000 to $34,999' 'under $1,000'\n",
      " '$8,000 to $9,999' '$12,500 to $14,999' '$40,000 to $49,999'\n",
      " '$5,000 to $5,999' '$35,000 to $39,999' '$25,000 to $29,999'\n",
      " '$90,000 to $109,999' '$22,500 to $24,999' '$20,000 to $22,499'\n",
      " '$110,000 to $129,999' '$150,000 to $169,999' '$130,000 to $149,999'\n",
      " '$1,000 to $2,999' '$17,500 to $19,999' '$6,000 to $6,999'\n",
      " '$10,000 to $12,499' '$15,000 to $17,499' '$7,000 to $7,999'\n",
      " '$3,000 to $3,999' '$4,000 to $4,999']\n"
     ]
    }
   ],
   "source": [
    "# find unique values in each column to cleaning\n",
    "ut5 = gss_filter['tratot5'].unique()\n",
    "print('tratot5:', ut5)\n",
    "\n",
    "ud5 = gss_filter['divorce5'].unique()\n",
    "print(\"divorce5:\", ud5)\n",
    "\n",
    "uhit = gss_filter['hitage'].unique()\n",
    "print(\"hitage:\", uhit)\n",
    "\n",
    "uarr = gss_filter['arrest'].unique()\n",
    "print(\"arrest:\", uarr)\n",
    "\n",
    "ui16 = gss_filter['income16'].unique()\n",
    "print(\"income16:\", ui16)"
   ]
  },
  {
   "cell_type": "code",
   "execution_count": 34,
   "metadata": {},
   "outputs": [
    {
     "name": "stdout",
     "output_type": "stream",
     "text": [
      "2.0    1584\n",
      "3.0    1455\n",
      "1.0    1063\n",
      "4.0     890\n",
      "5.0     384\n",
      "0.0     377\n",
      "6.0      94\n",
      "7.0       8\n",
      "Name: tratot5, dtype: int64\n",
      "none             13188\n",
      "prior 4 years      888\n",
      "last year          312\n",
      "both               111\n",
      "Name: divorce5, dtype: int64\n",
      "child    2849\n",
      "adult    2402\n",
      "both     1538\n",
      "Name: hitage, dtype: int64\n",
      "no             10781\n",
      "yes             1558\n",
      "refused_(3)        3\n",
      "Name: arrest, dtype: int64\n",
      "$60,000 to $74,999      1144\n",
      "$170,000 or over        1037\n",
      "$75,000 to $89,999       935\n",
      "$90,000 to $109,999      899\n",
      "$50,000 to $59,999       886\n",
      "$40,000 to $49,999       854\n",
      "$110,000 to $129,999     630\n",
      "$30,000 to $34,999       564\n",
      "$35,000 to $39,999       515\n",
      "$130,000 to $149,999     464\n",
      "$25,000 to $29,999       455\n",
      "$150,000 to $169,999     370\n",
      "$10,000 to $12,499       349\n",
      "$22,500 to $24,999       347\n",
      "$20,000 to $22,499       332\n",
      "$12,500 to $14,999       304\n",
      "$15,000 to $17,499       247\n",
      "$17,500 to $19,999       219\n",
      "$8,000 to $9,999         183\n",
      "under $1,000             172\n",
      "$1,000 to $2,999         145\n",
      "$3,000 to $3,999          80\n",
      "$7,000 to $7,999          70\n",
      "$5,000 to $5,999          67\n",
      "$6,000 to $6,999          50\n",
      "$4,000 to $4,999          49\n",
      "Name: income16, dtype: int64\n"
     ]
    }
   ],
   "source": [
    "vct5 = gss_filter['tratot5'].value_counts()\n",
    "print(vct5)\n",
    "\n",
    "vcd5 = gss_filter['divorce5'].value_counts()\n",
    "print(vcd5)\n",
    "\n",
    "vchit = gss_filter['hitage'].value_counts()\n",
    "print(vchit)\n",
    "\n",
    "vcarr = gss_filter['arrest'].value_counts()\n",
    "print(vcarr)\n",
    "\n",
    "vci16 = gss_filter['income16'].value_counts()\n",
    "print(vci16)"
   ]
  }
 ],
 "metadata": {
  "colab": {
   "provenance": []
  },
  "kernelspec": {
   "display_name": "Python 3 (ipykernel)",
   "language": "python",
   "name": "python3"
  },
  "language_info": {
   "codemirror_mode": {
    "name": "ipython",
    "version": 3
   },
   "file_extension": ".py",
   "mimetype": "text/x-python",
   "name": "python",
   "nbconvert_exporter": "python",
   "pygments_lexer": "ipython3",
   "version": "3.9.16"
  }
 },
 "nbformat": 4,
 "nbformat_minor": 1
}
