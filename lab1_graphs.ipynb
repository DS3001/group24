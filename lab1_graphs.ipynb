{
  "cells": [
    {
      "cell_type": "code",
      "execution_count": null,
      "metadata": {
        "id": "wk56KETZju4w",
        "outputId": "ba13b3dd-aca1-4a21-e36c-e0e068426b63"
      },
      "outputs": [
        {
          "name": "stderr",
          "output_type": "stream",
          "text": [
            "C:\\Users\\cynth\\AppData\\Local\\Temp\\ipykernel_2684\\2936053992.py:4: DtypeWarning: Columns (3,6) have mixed types. Specify dtype option on import or set low_memory=False.\n",
            "  df = pd.read_csv('gss_filtered.csv')\n"
          ]
        }
      ],
      "source": [
        "import pandas as pd\n",
        "import numpy as np\n",
        "\n",
        "df = pd.read_csv('gss_filtered.csv')"
      ]
    },
    {
      "cell_type": "code",
      "execution_count": null,
      "metadata": {
        "id": "pNAOFAEUju4x",
        "outputId": "3e1d57d0-f2a4-4512-b381-867183f5fb3c"
      },
      "outputs": [
        {
          "data": {
            "text/plain": [
              "(72390, 8)"
            ]
          },
          "execution_count": 56,
          "metadata": {},
          "output_type": "execute_result"
        }
      ],
      "source": [
        "df.shape"
      ]
    },
    {
      "cell_type": "code",
      "execution_count": null,
      "metadata": {
        "id": "5bhlv75Iju4x",
        "outputId": "8f71d824-4c37-4bec-99df-01b5da16b06b"
      },
      "outputs": [
        {
          "data": {
            "text/html": [
              "<div>\n",
              "<style scoped>\n",
              "    .dataframe tbody tr th:only-of-type {\n",
              "        vertical-align: middle;\n",
              "    }\n",
              "\n",
              "    .dataframe tbody tr th {\n",
              "        vertical-align: top;\n",
              "    }\n",
              "\n",
              "    .dataframe thead th {\n",
              "        text-align: right;\n",
              "    }\n",
              "</style>\n",
              "<table border=\"1\" class=\"dataframe\">\n",
              "  <thead>\n",
              "    <tr style=\"text-align: right;\">\n",
              "      <th></th>\n",
              "      <th>Unnamed: 0</th>\n",
              "      <th>divorce</th>\n",
              "      <th>incom16</th>\n",
              "      <th>arrest</th>\n",
              "      <th>rincome</th>\n",
              "      <th>educ</th>\n",
              "      <th>ticket</th>\n",
              "      <th>marital</th>\n",
              "    </tr>\n",
              "  </thead>\n",
              "  <tbody>\n",
              "    <tr>\n",
              "      <th>0</th>\n",
              "      <td>0</td>\n",
              "      <td>NaN</td>\n",
              "      <td>average</td>\n",
              "      <td>NaN</td>\n",
              "      <td>NaN</td>\n",
              "      <td>16.0</td>\n",
              "      <td>NaN</td>\n",
              "      <td>never married</td>\n",
              "    </tr>\n",
              "    <tr>\n",
              "      <th>1</th>\n",
              "      <td>1</td>\n",
              "      <td>no</td>\n",
              "      <td>above average</td>\n",
              "      <td>NaN</td>\n",
              "      <td>NaN</td>\n",
              "      <td>10.0</td>\n",
              "      <td>NaN</td>\n",
              "      <td>married</td>\n",
              "    </tr>\n",
              "    <tr>\n",
              "      <th>2</th>\n",
              "      <td>2</td>\n",
              "      <td>no</td>\n",
              "      <td>average</td>\n",
              "      <td>NaN</td>\n",
              "      <td>NaN</td>\n",
              "      <td>12.0</td>\n",
              "      <td>NaN</td>\n",
              "      <td>married</td>\n",
              "    </tr>\n",
              "    <tr>\n",
              "      <th>3</th>\n",
              "      <td>3</td>\n",
              "      <td>no</td>\n",
              "      <td>average</td>\n",
              "      <td>NaN</td>\n",
              "      <td>NaN</td>\n",
              "      <td>17.0</td>\n",
              "      <td>NaN</td>\n",
              "      <td>married</td>\n",
              "    </tr>\n",
              "    <tr>\n",
              "      <th>4</th>\n",
              "      <td>4</td>\n",
              "      <td>no</td>\n",
              "      <td>below average</td>\n",
              "      <td>NaN</td>\n",
              "      <td>NaN</td>\n",
              "      <td>12.0</td>\n",
              "      <td>NaN</td>\n",
              "      <td>married</td>\n",
              "    </tr>\n",
              "  </tbody>\n",
              "</table>\n",
              "</div>"
            ],
            "text/plain": [
              "   Unnamed: 0 divorce        incom16 arrest rincome  educ ticket  \\\n",
              "0           0     NaN        average    NaN     NaN  16.0    NaN   \n",
              "1           1      no  above average    NaN     NaN  10.0    NaN   \n",
              "2           2      no        average    NaN     NaN  12.0    NaN   \n",
              "3           3      no        average    NaN     NaN  17.0    NaN   \n",
              "4           4      no  below average    NaN     NaN  12.0    NaN   \n",
              "\n",
              "         marital  \n",
              "0  never married  \n",
              "1        married  \n",
              "2        married  \n",
              "3        married  \n",
              "4        married  "
            ]
          },
          "execution_count": 57,
          "metadata": {},
          "output_type": "execute_result"
        }
      ],
      "source": [
        "df.head()"
      ]
    },
    {
      "cell_type": "code",
      "execution_count": null,
      "metadata": {
        "id": "6ntQxrbTju4y",
        "outputId": "eaa58613-7e88-4c2c-afff-5d1403a6a4b0"
      },
      "outputs": [
        {
          "data": {
            "text/plain": [
              "array([0., 1.])"
            ]
          },
          "execution_count": 58,
          "metadata": {},
          "output_type": "execute_result"
        }
      ],
      "source": [
        "# Cleaned arrest\n",
        "\n",
        "df['arrest'].unique()\n",
        "df = df[df['arrest'].notna()].replace('no',0).replace('yes',1).replace('refused_(3)',np.nan)\n",
        "df = df[df['arrest'].notna()]\n",
        "df['arrest'].unique()"
      ]
    },
    {
      "cell_type": "code",
      "execution_count": null,
      "metadata": {
        "id": "S1iWlo3sju4y",
        "outputId": "044c59e9-e06f-4d94-b205-2b6f154b123c"
      },
      "outputs": [
        {
          "data": {
            "text/plain": [
              "array([nan, '$1,000 to $2,999', '$15,000 to $19,999', '$7,000 to $7,999',\n",
              "       '$8,000 to $9,999', '$20,000 to $24,999', '$4,000 to $4,999',\n",
              "       '$10,000 to $14,999', '$25,000 or more', '$3,000 to $3,999',\n",
              "       'under $1,000', '$5,000 to $5,999', '$6,000 to $6,999'],\n",
              "      dtype=object)"
            ]
          },
          "execution_count": 59,
          "metadata": {},
          "output_type": "execute_result"
        }
      ],
      "source": [
        "df['rincome'].unique()"
      ]
    },
    {
      "cell_type": "code",
      "execution_count": null,
      "metadata": {
        "id": "I58TLz7qju4y"
      },
      "outputs": [],
      "source": [
        "# Cleaned data of rincome\n",
        "\n",
        "df = df[df['rincome'].notna()].replace('$1,000 to $2,999', 1).replace('$15,000 to $19,999',9).replace('$7,000 to $7,999',6).replace('$8,000 to $9,999',7).replace('$20,000 to $24,999',10).replace('$4,000 to $4,999',3).replace('$10,000 to $14,999',8).replace('$25,000 or more',11).replace('$3,000 to $3,999',2).replace('under $1,000',0).replace('$5,000 to $5,999',4).replace('$6,000 to $6,999',5)"
      ]
    },
    {
      "cell_type": "code",
      "execution_count": null,
      "metadata": {
        "id": "FzLuLGPUju4y",
        "outputId": "d9013483-150b-4bc8-a1c1-05ddf23c2f23"
      },
      "outputs": [
        {
          "data": {
            "text/html": [
              "<div>\n",
              "<style scoped>\n",
              "    .dataframe tbody tr th:only-of-type {\n",
              "        vertical-align: middle;\n",
              "    }\n",
              "\n",
              "    .dataframe tbody tr th {\n",
              "        vertical-align: top;\n",
              "    }\n",
              "\n",
              "    .dataframe thead th {\n",
              "        text-align: right;\n",
              "    }\n",
              "</style>\n",
              "<table border=\"1\" class=\"dataframe\">\n",
              "  <thead>\n",
              "    <tr style=\"text-align: right;\">\n",
              "      <th></th>\n",
              "      <th>Unnamed: 0</th>\n",
              "      <th>divorce</th>\n",
              "      <th>incom16</th>\n",
              "      <th>arrest</th>\n",
              "      <th>rincome</th>\n",
              "      <th>educ</th>\n",
              "      <th>ticket</th>\n",
              "      <th>marital</th>\n",
              "    </tr>\n",
              "  </thead>\n",
              "  <tbody>\n",
              "    <tr>\n",
              "      <th>3117</th>\n",
              "      <td>3117</td>\n",
              "      <td>0.0</td>\n",
              "      <td>3</td>\n",
              "      <td>0.0</td>\n",
              "      <td>1</td>\n",
              "      <td>14.0</td>\n",
              "      <td>0.0</td>\n",
              "      <td>married</td>\n",
              "    </tr>\n",
              "    <tr>\n",
              "      <th>3118</th>\n",
              "      <td>3118</td>\n",
              "      <td>0.0</td>\n",
              "      <td>2</td>\n",
              "      <td>0.0</td>\n",
              "      <td>9</td>\n",
              "      <td>16.0</td>\n",
              "      <td>1.0</td>\n",
              "      <td>married</td>\n",
              "    </tr>\n",
              "    <tr>\n",
              "      <th>3121</th>\n",
              "      <td>3121</td>\n",
              "      <td>NaN</td>\n",
              "      <td>2</td>\n",
              "      <td>0.0</td>\n",
              "      <td>6</td>\n",
              "      <td>12.0</td>\n",
              "      <td>1.0</td>\n",
              "      <td>never married</td>\n",
              "    </tr>\n",
              "    <tr>\n",
              "      <th>3122</th>\n",
              "      <td>3122</td>\n",
              "      <td>0.0</td>\n",
              "      <td>2</td>\n",
              "      <td>0.0</td>\n",
              "      <td>7</td>\n",
              "      <td>16.0</td>\n",
              "      <td>1.0</td>\n",
              "      <td>married</td>\n",
              "    </tr>\n",
              "    <tr>\n",
              "      <th>3123</th>\n",
              "      <td>3123</td>\n",
              "      <td>0.0</td>\n",
              "      <td>1</td>\n",
              "      <td>0.0</td>\n",
              "      <td>10</td>\n",
              "      <td>17.0</td>\n",
              "      <td>1.0</td>\n",
              "      <td>married</td>\n",
              "    </tr>\n",
              "  </tbody>\n",
              "</table>\n",
              "</div>"
            ],
            "text/plain": [
              "      Unnamed: 0  divorce  incom16  arrest  rincome  educ  ticket  \\\n",
              "3117        3117      0.0        3     0.0        1  14.0     0.0   \n",
              "3118        3118      0.0        2     0.0        9  16.0     1.0   \n",
              "3121        3121      NaN        2     0.0        6  12.0     1.0   \n",
              "3122        3122      0.0        2     0.0        7  16.0     1.0   \n",
              "3123        3123      0.0        1     0.0       10  17.0     1.0   \n",
              "\n",
              "            marital  \n",
              "3117        married  \n",
              "3118        married  \n",
              "3121  never married  \n",
              "3122        married  \n",
              "3123        married  "
            ]
          },
          "execution_count": 61,
          "metadata": {},
          "output_type": "execute_result"
        }
      ],
      "source": [
        "# Cleaned data of incom16\n",
        "\n",
        "df['incom16'].unique()\n",
        "df = df[df['incom16'].notna()].replace('far below average',0).replace('below average',1).replace('average',2).replace('above average',3).replace('far above average',4)\n",
        "df.head()"
      ]
    },
    {
      "cell_type": "code",
      "execution_count": null,
      "metadata": {
        "id": "MD3XBk1Cju4y",
        "outputId": "9f272271-4f31-4c4c-81ab-fe1f09bd0385"
      },
      "outputs": [
        {
          "data": {
            "text/plain": [
              "array([0, 1], dtype=int64)"
            ]
          },
          "execution_count": 62,
          "metadata": {},
          "output_type": "execute_result"
        }
      ],
      "source": [
        "# Cleaned marital variable\n",
        "\n",
        "df['marital'].unique()\n",
        "df['marital'] = df['marital'].replace('married',0).replace('never married',0).replace('widowed',0).replace('divorced',1).replace('separated',1)\n",
        "df['marital'].unique()"
      ]
    },
    {
      "cell_type": "code",
      "execution_count": null,
      "metadata": {
        "id": "AeyDJOMiju4y",
        "outputId": "642b17af-8051-4119-d5fd-fb0017fda5c8"
      },
      "outputs": [
        {
          "data": {
            "text/html": [
              "<div>\n",
              "<style scoped>\n",
              "    .dataframe tbody tr th:only-of-type {\n",
              "        vertical-align: middle;\n",
              "    }\n",
              "\n",
              "    .dataframe tbody tr th {\n",
              "        vertical-align: top;\n",
              "    }\n",
              "\n",
              "    .dataframe thead th {\n",
              "        text-align: right;\n",
              "    }\n",
              "</style>\n",
              "<table border=\"1\" class=\"dataframe\">\n",
              "  <thead>\n",
              "    <tr style=\"text-align: right;\">\n",
              "      <th></th>\n",
              "      <th>Unnamed: 0</th>\n",
              "      <th>divorce</th>\n",
              "      <th>incom16</th>\n",
              "      <th>arrest</th>\n",
              "      <th>rincome</th>\n",
              "      <th>educ</th>\n",
              "      <th>ticket</th>\n",
              "      <th>marital</th>\n",
              "    </tr>\n",
              "  </thead>\n",
              "  <tbody>\n",
              "    <tr>\n",
              "      <th>3117</th>\n",
              "      <td>3117</td>\n",
              "      <td>0.0</td>\n",
              "      <td>3</td>\n",
              "      <td>0.0</td>\n",
              "      <td>1</td>\n",
              "      <td>14.0</td>\n",
              "      <td>0.0</td>\n",
              "      <td>0</td>\n",
              "    </tr>\n",
              "    <tr>\n",
              "      <th>3118</th>\n",
              "      <td>3118</td>\n",
              "      <td>0.0</td>\n",
              "      <td>2</td>\n",
              "      <td>0.0</td>\n",
              "      <td>9</td>\n",
              "      <td>16.0</td>\n",
              "      <td>1.0</td>\n",
              "      <td>0</td>\n",
              "    </tr>\n",
              "    <tr>\n",
              "      <th>3121</th>\n",
              "      <td>3121</td>\n",
              "      <td>NaN</td>\n",
              "      <td>2</td>\n",
              "      <td>0.0</td>\n",
              "      <td>6</td>\n",
              "      <td>12.0</td>\n",
              "      <td>1.0</td>\n",
              "      <td>0</td>\n",
              "    </tr>\n",
              "    <tr>\n",
              "      <th>3122</th>\n",
              "      <td>3122</td>\n",
              "      <td>0.0</td>\n",
              "      <td>2</td>\n",
              "      <td>0.0</td>\n",
              "      <td>7</td>\n",
              "      <td>16.0</td>\n",
              "      <td>1.0</td>\n",
              "      <td>0</td>\n",
              "    </tr>\n",
              "    <tr>\n",
              "      <th>3123</th>\n",
              "      <td>3123</td>\n",
              "      <td>0.0</td>\n",
              "      <td>1</td>\n",
              "      <td>0.0</td>\n",
              "      <td>10</td>\n",
              "      <td>17.0</td>\n",
              "      <td>1.0</td>\n",
              "      <td>0</td>\n",
              "    </tr>\n",
              "  </tbody>\n",
              "</table>\n",
              "</div>"
            ],
            "text/plain": [
              "      Unnamed: 0  divorce  incom16  arrest  rincome  educ  ticket  marital\n",
              "3117        3117      0.0        3     0.0        1  14.0     0.0        0\n",
              "3118        3118      0.0        2     0.0        9  16.0     1.0        0\n",
              "3121        3121      NaN        2     0.0        6  12.0     1.0        0\n",
              "3122        3122      0.0        2     0.0        7  16.0     1.0        0\n",
              "3123        3123      0.0        1     0.0       10  17.0     1.0        0"
            ]
          },
          "execution_count": 63,
          "metadata": {},
          "output_type": "execute_result"
        }
      ],
      "source": [
        "df.head()"
      ]
    },
    {
      "cell_type": "code",
      "execution_count": null,
      "metadata": {
        "id": "JzMuC5eXju4z",
        "outputId": "fd23b691-bc6c-4e6b-8e00-187bede44d99"
      },
      "outputs": [
        {
          "data": {
            "text/html": [
              "<div>\n",
              "<style scoped>\n",
              "    .dataframe tbody tr th:only-of-type {\n",
              "        vertical-align: middle;\n",
              "    }\n",
              "\n",
              "    .dataframe tbody tr th {\n",
              "        vertical-align: top;\n",
              "    }\n",
              "\n",
              "    .dataframe thead th {\n",
              "        text-align: right;\n",
              "    }\n",
              "</style>\n",
              "<table border=\"1\" class=\"dataframe\">\n",
              "  <thead>\n",
              "    <tr style=\"text-align: right;\">\n",
              "      <th></th>\n",
              "      <th>Unnamed: 0</th>\n",
              "      <th>incom16</th>\n",
              "      <th>arrest</th>\n",
              "      <th>educ</th>\n",
              "      <th>ticket</th>\n",
              "      <th>marital</th>\n",
              "    </tr>\n",
              "  </thead>\n",
              "  <tbody>\n",
              "    <tr>\n",
              "      <th>3117</th>\n",
              "      <td>3117</td>\n",
              "      <td>3</td>\n",
              "      <td>0.0</td>\n",
              "      <td>14.0</td>\n",
              "      <td>0.0</td>\n",
              "      <td>0</td>\n",
              "    </tr>\n",
              "    <tr>\n",
              "      <th>3118</th>\n",
              "      <td>3118</td>\n",
              "      <td>2</td>\n",
              "      <td>0.0</td>\n",
              "      <td>16.0</td>\n",
              "      <td>1.0</td>\n",
              "      <td>0</td>\n",
              "    </tr>\n",
              "    <tr>\n",
              "      <th>3121</th>\n",
              "      <td>3121</td>\n",
              "      <td>2</td>\n",
              "      <td>0.0</td>\n",
              "      <td>12.0</td>\n",
              "      <td>1.0</td>\n",
              "      <td>0</td>\n",
              "    </tr>\n",
              "    <tr>\n",
              "      <th>3122</th>\n",
              "      <td>3122</td>\n",
              "      <td>2</td>\n",
              "      <td>0.0</td>\n",
              "      <td>16.0</td>\n",
              "      <td>1.0</td>\n",
              "      <td>0</td>\n",
              "    </tr>\n",
              "    <tr>\n",
              "      <th>3123</th>\n",
              "      <td>3123</td>\n",
              "      <td>1</td>\n",
              "      <td>0.0</td>\n",
              "      <td>17.0</td>\n",
              "      <td>1.0</td>\n",
              "      <td>0</td>\n",
              "    </tr>\n",
              "  </tbody>\n",
              "</table>\n",
              "</div>"
            ],
            "text/plain": [
              "      Unnamed: 0  incom16  arrest  educ  ticket  marital\n",
              "3117        3117        3     0.0  14.0     0.0        0\n",
              "3118        3118        2     0.0  16.0     1.0        0\n",
              "3121        3121        2     0.0  12.0     1.0        0\n",
              "3122        3122        2     0.0  16.0     1.0        0\n",
              "3123        3123        1     0.0  17.0     1.0        0"
            ]
          },
          "execution_count": 64,
          "metadata": {},
          "output_type": "execute_result"
        }
      ],
      "source": [
        "df = df.drop('divorce',axis=1).drop('rincome',axis=1)\n",
        "df.head()"
      ]
    },
    {
      "cell_type": "code",
      "execution_count": null,
      "metadata": {
        "id": "NI3q_PpHju4z",
        "outputId": "24881d32-d7cb-4002-96b7-93073e027f7b"
      },
      "outputs": [
        {
          "name": "stdout",
          "output_type": "stream",
          "text": [
            "Unnamed: 0     0\n",
            "incom16        0\n",
            "arrest         0\n",
            "educ          10\n",
            "ticket         8\n",
            "marital        0\n",
            "dtype: int64\n"
          ]
        }
      ],
      "source": [
        "print(df.isna().sum())"
      ]
    },
    {
      "cell_type": "code",
      "execution_count": null,
      "metadata": {
        "id": "afLM2PoIju4z",
        "outputId": "c9a013dc-2923-425c-9bcd-bc0107561d7d"
      },
      "outputs": [
        {
          "data": {
            "text/plain": [
              "array([0., 1.])"
            ]
          },
          "execution_count": 66,
          "metadata": {},
          "output_type": "execute_result"
        }
      ],
      "source": [
        "# Cleaned ticket variable\n",
        "\n",
        "df = df[df['ticket'].notna()]\n",
        "df['ticket'].unique()"
      ]
    },
    {
      "cell_type": "code",
      "execution_count": null,
      "metadata": {
        "id": "2GFskxV3ju4z",
        "outputId": "b515a6da-b640-43c3-8f0f-1733b37ccbfe"
      },
      "outputs": [
        {
          "data": {
            "text/plain": [
              "array([14., 16., 12., 17., 11.,  8.,  9., 15., 13., 10., 20., 18.,  7.,\n",
              "       19.,  0.,  4.,  6.,  5.,  3.,  2.,  1.])"
            ]
          },
          "execution_count": 67,
          "metadata": {},
          "output_type": "execute_result"
        }
      ],
      "source": [
        "# Cleaned education variable part 1\n",
        "\n",
        "df = df[df['educ'].notna()]\n",
        "df['educ'].unique()"
      ]
    },
    {
      "cell_type": "code",
      "execution_count": null,
      "metadata": {
        "id": "GYCCzHhmju40",
        "outputId": "c8f97919-7051-4ee1-c0f9-5ed937f3b33c"
      },
      "outputs": [
        {
          "data": {
            "text/html": [
              "<div>\n",
              "<style scoped>\n",
              "    .dataframe tbody tr th:only-of-type {\n",
              "        vertical-align: middle;\n",
              "    }\n",
              "\n",
              "    .dataframe tbody tr th {\n",
              "        vertical-align: top;\n",
              "    }\n",
              "\n",
              "    .dataframe thead th {\n",
              "        text-align: right;\n",
              "    }\n",
              "</style>\n",
              "<table border=\"1\" class=\"dataframe\">\n",
              "  <thead>\n",
              "    <tr style=\"text-align: right;\">\n",
              "      <th></th>\n",
              "      <th>Unnamed: 0</th>\n",
              "      <th>incom16</th>\n",
              "      <th>arrest</th>\n",
              "      <th>educ</th>\n",
              "      <th>ticket</th>\n",
              "      <th>marital</th>\n",
              "    </tr>\n",
              "  </thead>\n",
              "  <tbody>\n",
              "    <tr>\n",
              "      <th>3117</th>\n",
              "      <td>3117</td>\n",
              "      <td>3</td>\n",
              "      <td>0.0</td>\n",
              "      <td>14.0</td>\n",
              "      <td>0.0</td>\n",
              "      <td>0</td>\n",
              "    </tr>\n",
              "    <tr>\n",
              "      <th>3118</th>\n",
              "      <td>3118</td>\n",
              "      <td>2</td>\n",
              "      <td>0.0</td>\n",
              "      <td>16.0</td>\n",
              "      <td>1.0</td>\n",
              "      <td>0</td>\n",
              "    </tr>\n",
              "    <tr>\n",
              "      <th>3121</th>\n",
              "      <td>3121</td>\n",
              "      <td>2</td>\n",
              "      <td>0.0</td>\n",
              "      <td>12.0</td>\n",
              "      <td>1.0</td>\n",
              "      <td>0</td>\n",
              "    </tr>\n",
              "    <tr>\n",
              "      <th>3122</th>\n",
              "      <td>3122</td>\n",
              "      <td>2</td>\n",
              "      <td>0.0</td>\n",
              "      <td>16.0</td>\n",
              "      <td>1.0</td>\n",
              "      <td>0</td>\n",
              "    </tr>\n",
              "    <tr>\n",
              "      <th>3123</th>\n",
              "      <td>3123</td>\n",
              "      <td>1</td>\n",
              "      <td>0.0</td>\n",
              "      <td>17.0</td>\n",
              "      <td>1.0</td>\n",
              "      <td>0</td>\n",
              "    </tr>\n",
              "  </tbody>\n",
              "</table>\n",
              "</div>"
            ],
            "text/plain": [
              "      Unnamed: 0  incom16  arrest  educ  ticket  marital\n",
              "3117        3117        3     0.0  14.0     0.0        0\n",
              "3118        3118        2     0.0  16.0     1.0        0\n",
              "3121        3121        2     0.0  12.0     1.0        0\n",
              "3122        3122        2     0.0  16.0     1.0        0\n",
              "3123        3123        1     0.0  17.0     1.0        0"
            ]
          },
          "execution_count": 68,
          "metadata": {},
          "output_type": "execute_result"
        }
      ],
      "source": [
        "df.head()"
      ]
    },
    {
      "cell_type": "code",
      "execution_count": null,
      "metadata": {
        "id": "2heFuNahju40",
        "outputId": "be61b0cc-8932-4094-89b1-e132053b4f45"
      },
      "outputs": [
        {
          "data": {
            "text/html": [
              "<div>\n",
              "<style scoped>\n",
              "    .dataframe tbody tr th:only-of-type {\n",
              "        vertical-align: middle;\n",
              "    }\n",
              "\n",
              "    .dataframe tbody tr th {\n",
              "        vertical-align: top;\n",
              "    }\n",
              "\n",
              "    .dataframe thead th {\n",
              "        text-align: right;\n",
              "    }\n",
              "</style>\n",
              "<table border=\"1\" class=\"dataframe\">\n",
              "  <thead>\n",
              "    <tr style=\"text-align: right;\">\n",
              "      <th></th>\n",
              "      <th>Unnamed: 0</th>\n",
              "      <th>incom16</th>\n",
              "      <th>arrest</th>\n",
              "      <th>educ</th>\n",
              "      <th>ticket</th>\n",
              "      <th>marital</th>\n",
              "    </tr>\n",
              "  </thead>\n",
              "  <tbody>\n",
              "    <tr>\n",
              "      <th>3117</th>\n",
              "      <td>3117</td>\n",
              "      <td>3</td>\n",
              "      <td>0.0</td>\n",
              "      <td>2</td>\n",
              "      <td>0.0</td>\n",
              "      <td>0</td>\n",
              "    </tr>\n",
              "    <tr>\n",
              "      <th>3118</th>\n",
              "      <td>3118</td>\n",
              "      <td>2</td>\n",
              "      <td>0.0</td>\n",
              "      <td>3</td>\n",
              "      <td>1.0</td>\n",
              "      <td>0</td>\n",
              "    </tr>\n",
              "    <tr>\n",
              "      <th>3121</th>\n",
              "      <td>3121</td>\n",
              "      <td>2</td>\n",
              "      <td>0.0</td>\n",
              "      <td>1</td>\n",
              "      <td>1.0</td>\n",
              "      <td>0</td>\n",
              "    </tr>\n",
              "    <tr>\n",
              "      <th>3122</th>\n",
              "      <td>3122</td>\n",
              "      <td>2</td>\n",
              "      <td>0.0</td>\n",
              "      <td>3</td>\n",
              "      <td>1.0</td>\n",
              "      <td>0</td>\n",
              "    </tr>\n",
              "    <tr>\n",
              "      <th>3123</th>\n",
              "      <td>3123</td>\n",
              "      <td>1</td>\n",
              "      <td>0.0</td>\n",
              "      <td>4</td>\n",
              "      <td>1.0</td>\n",
              "      <td>0</td>\n",
              "    </tr>\n",
              "  </tbody>\n",
              "</table>\n",
              "</div>"
            ],
            "text/plain": [
              "      Unnamed: 0  incom16  arrest  educ  ticket  marital\n",
              "3117        3117        3     0.0     2     0.0        0\n",
              "3118        3118        2     0.0     3     1.0        0\n",
              "3121        3121        2     0.0     1     1.0        0\n",
              "3122        3122        2     0.0     3     1.0        0\n",
              "3123        3123        1     0.0     4     1.0        0"
            ]
          },
          "execution_count": 69,
          "metadata": {},
          "output_type": "execute_result"
        }
      ],
      "source": [
        "# Cleaned education variable part 2\n",
        "\n",
        "def educ(x):\n",
        "    if (0 <= x <= 11):\n",
        "        return 0\n",
        "    elif(x == 12):\n",
        "        return 1\n",
        "    elif(13 <= x <=15):\n",
        "        return 2\n",
        "    elif(x == 16):\n",
        "        return 3\n",
        "    elif(x > 16):\n",
        "        return 4\n",
        "df['educ'] = df['educ'].apply(educ)\n",
        "df.head()"
      ]
    },
    {
      "cell_type": "code",
      "execution_count": null,
      "metadata": {
        "id": "go9iCQatju40"
      },
      "outputs": [],
      "source": [
        "import seaborn as sns"
      ]
    },
    {
      "cell_type": "code",
      "execution_count": null,
      "metadata": {
        "id": "NCtGfUjjju40"
      },
      "outputs": [],
      "source": [
        "var1 = 'incom16'\n",
        "var2 = 'arrest'\n",
        "var3 = 'educ'\n",
        "var4 = 'ticket'\n",
        "var5 = 'marital'\n",
        "\n",
        "# sns.countplot(data=df, x=var1, hue = var2)"
      ]
    },
    {
      "cell_type": "code",
      "execution_count": null,
      "metadata": {
        "id": "A4SSA8FSju40",
        "outputId": "3b58ef31-63b0-4c54-d946-956476a2bb3c"
      },
      "outputs": [
        {
          "data": {
            "text/plain": [
              "<AxesSubplot: xlabel='incom16', ylabel='Percentage'>"
            ]
          },
          "execution_count": 73,
          "metadata": {},
          "output_type": "execute_result"
        },
        {
          "data": {
            "image/png": "[encoded data removed]",
            "text/plain": [
              "<Figure size 640x480 with 1 Axes>"
            ]
          },
          "metadata": {},
          "output_type": "display_data"
        }
      ],
      "source": [
        "# plot incom16 and arrest\n",
        "def calculate_percentages(group):\n",
        "    total_count = group.sum()\n",
        "    return 100 * group / total_count\n",
        "\n",
        "# Calculate percentages for each combination of var1 and var2\n",
        "grouped_data = df.groupby([var1, var2]).size().unstack()\n",
        "percentage_data = grouped_data.apply(calculate_percentages, axis=1).stack().reset_index(name=\"Percentage\")\n",
        "\n",
        "# Create the countplot\n",
        "sns.barplot(data=percentage_data, x=var1, y=\"Percentage\", hue=var2)"
      ]
    },
    {
      "cell_type": "code",
      "execution_count": null,
      "metadata": {
        "id": "c2HXVwg1ju40"
      },
      "outputs": [],
      "source": [
        "# Incom16 grouped by arrest\n",
        "#df.groupby(['incom16','arrest']).size().unstack().plot(kind='bar',stacked=True)"
      ]
    },
    {
      "cell_type": "markdown",
      "metadata": {
        "id": "ramSF1aRju40"
      },
      "source": []
    },
    {
      "cell_type": "markdown",
      "metadata": {
        "id": "Z05t63D1ju41"
      },
      "source": [
        "**Data:**\n",
        "The dataset used for this project is the General Social Survey, a survey that has been conducted annually since 1972. The motivation behind this survey is to examine Americans’ social and economic views, and how they have changed over time. An important question that could be derived from this dataset is, “How does household income when you were growing up affect your adult life?” We use the variable ‘incom16’ as the foundation to our question, along with 3 variables to represent factors of “adult life,” like education, arrests, and marital status."
      ]
    },
    {
      "cell_type": "code",
      "execution_count": null,
      "metadata": {
        "id": "uPm6atPlju41",
        "outputId": "be5c7131-f353-4430-e721-c9c2e8a2145a"
      },
      "outputs": [
        {
          "data": {
            "text/plain": [
              "<AxesSubplot: xlabel='incom16', ylabel='Percentage'>"
            ]
          },
          "execution_count": 74,
          "metadata": {},
          "output_type": "execute_result"
        },
        {
          "data": {
            "image/png": "[encoded data removed]",
            "text/plain": [
              "<Figure size 640x480 with 1 Axes>"
            ]
          },
          "metadata": {},
          "output_type": "display_data"
        }
      ],
      "source": [
        "# Incom16 grouped by education\n",
        "\n",
        "grouped_data = df.groupby([var1, var3]).size().unstack()\n",
        "percentage_data = grouped_data.apply(calculate_percentages, axis=1).stack().reset_index(name=\"Percentage\")\n",
        "\n",
        "sns.barplot(data=percentage_data, x=var1, y=\"Percentage\", hue=var3)\n",
        "\n",
        "\n",
        "#ptable = df.groupby(['incom16','educ']).size().unstack()\n",
        "#ax = ptable.plot(kind='bar',stacked=True)\n",
        "#sns.countplot(data=df, x=var1, hue = var3)\n"
      ]
    },
    {
      "cell_type": "code",
      "execution_count": 30,
      "metadata": {
        "id": "fCE7Vtjiju41",
        "outputId": "02176b84-a567-4185-df2b-0f1108b5196e",
        "colab": {
          "base_uri": "https://localhost:8080/",
          "height": 467
        }
      },
      "outputs": [
        {
          "output_type": "execute_result",
          "data": {
            "text/plain": [
              "<Axes: xlabel='incom16', ylabel='Percentage'>"
            ]
          },
          "metadata": {},
          "execution_count": 30
        },
        {
          "output_type": "display_data",
          "data": {
            "text/plain": [
              "<Figure size 640x480 with 1 Axes>"
            ],
            "image/png": "[encoded data removed]"
          },
          "metadata": {}
        }
      ],
      "source": [
        "# Incom16 grouped by divorce\n",
        "#group_by = 'incom16'\n",
        "#var = 'marital'\n",
        "#df_wide = df.pivot(columns=group_by,values=var)\n",
        "#df_wide.plot.density()\n",
        "#df_wide.loc[:,['0','1','2','3','4']].plot.density()\n",
        "#df.groupby(['incom16','marital']).size().unstack().plot(kind='bar',stacked=True)\n",
        "\n",
        "grouped_data = df.groupby([var1, var5]).size().unstack()\n",
        "percentage_data = grouped_data.apply(calculate_percentages, axis=1).stack().reset_index(name=\"Percentage\")\n",
        "\n",
        "sns.barplot(data=percentage_data, x=var1, y=\"Percentage\", hue=var5)\n",
        "\n",
        "#get divorce percentages GIVEN person is married"
      ]
    }
  ],
  "metadata": {
    "kernelspec": {
      "display_name": "Python 3 (ipykernel)",
      "language": "python",
      "name": "python3"
    },
    "language_info": {
      "codemirror_mode": {
        "name": "ipython",
        "version": 3
      },
      "file_extension": ".py",
      "mimetype": "text/x-python",
      "name": "python",
      "nbconvert_exporter": "python",
      "pygments_lexer": "ipython3",
      "version": "3.9.16"
    },
    "colab": {
      "provenance": []
    }
  },
  "nbformat": 4,
  "nbformat_minor": 0
}