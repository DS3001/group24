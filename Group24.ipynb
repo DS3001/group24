{
 "cells": [
  {
   "cell_type": "code",
   "execution_count": null,
   "metadata": {
    "id": "aEaOKJ16bJje"
   },
   "outputs": [],
   "source": [
    "Group 24 Project"
   ]
  },
  {
   "cell_type": "code",
   "execution_count": null,
   "metadata": {
    "id": "jRBPEeC0dJQQ"
   },
   "outputs": [],
   "source": [
    "How does trauma relate to income levels\n",
    "\n",
    "\n",
    "Potential variables to use:\n",
    "- Tratot5: trauma last five years\n",
    "- Divorce5: divorce last five years\n",
    "- Hitage: beaten as a child or adult\n",
    "- Arrest: have you been picked up or charged by police\n",
    "- Income16: income in 2016"
   ]
  },
  {
   "cell_type": "code",
   "execution_count": 1,
   "metadata": {},
   "outputs": [
    {
     "ename": "UnicodeDecodeError",
     "evalue": "'utf-8' codec can't decode bytes in position 3-4: invalid continuation byte",
     "output_type": "error",
     "traceback": [
      "\u001b[1;31m---------------------------------------------------------------------------\u001b[0m",
      "\u001b[1;31mUnicodeDecodeError\u001b[0m                        Traceback (most recent call last)",
      "\u001b[1;32m~\\AppData\\Local\\Temp\\ipykernel_7176\\2531270924.py\u001b[0m in \u001b[0;36m<module>\u001b[1;34m\u001b[0m\n\u001b[0;32m      1\u001b[0m \u001b[1;32mimport\u001b[0m \u001b[0mpyreadstat\u001b[0m\u001b[1;33m\u001b[0m\u001b[1;33m\u001b[0m\u001b[0m\n\u001b[1;32m----> 2\u001b[1;33m \u001b[0mdf\u001b[0m\u001b[1;33m,\u001b[0m \u001b[0mmeta\u001b[0m \u001b[1;33m=\u001b[0m \u001b[0mpyreadstat\u001b[0m\u001b[1;33m.\u001b[0m\u001b[0mread_dta\u001b[0m\u001b[1;33m(\u001b[0m\u001b[1;34mr\"C:\\Users\\cynth\\Desktop\\DS 3001\\project1\\GSS_stata\\GSS_stata\\gss7222_r1.dta\"\u001b[0m\u001b[1;33m,\u001b[0m \u001b[0mapply_value_formats\u001b[0m \u001b[1;33m=\u001b[0m \u001b[1;32mFalse\u001b[0m\u001b[1;33m)\u001b[0m\u001b[1;33m\u001b[0m\u001b[1;33m\u001b[0m\u001b[0m\n\u001b[0m",
      "\u001b[1;32mpyreadstat\\\\pyreadstat.pyx\u001b[0m in \u001b[0;36mpyreadstat.pyreadstat.read_dta\u001b[1;34m()\u001b[0m\n",
      "\u001b[1;32mpyreadstat\\\\_readstat_parser.pyx\u001b[0m in \u001b[0;36mpyreadstat._readstat_parser.run_conversion\u001b[1;34m()\u001b[0m\n",
      "\u001b[1;32mpyreadstat\\\\_readstat_parser.pyx\u001b[0m in \u001b[0;36mpyreadstat._readstat_parser.handle_value_label\u001b[1;34m()\u001b[0m\n",
      "\u001b[1;31mUnicodeDecodeError\u001b[0m: 'utf-8' codec can't decode bytes in position 3-4: invalid continuation byte"
     ]
    }
   ],
   "source": [
    "import pyreadstat\n",
    "df, meta = pyreadstat.read_dta(r\"C:\\Users\\cynth\\Desktop\\DS 3001\\project1\\GSS_stata\\GSS_stata\\gss7222_r1.dta\", apply_value_formats = False)"
   ]
  },
  {
   "cell_type": "code",
   "execution_count": null,
   "metadata": {},
   "outputs": [],
   "source": [
    "# load in data\n",
    "import pandas as pd\n",
    "df = pd.read_stata(r\"C:\\Users\\cynth\\Desktop\\DS 3001\\project1\\GSS_stata\\GSS_stata\\gss7222_r1.dta\")"
   ]
  },
  {
   "cell_type": "code",
   "execution_count": null,
   "metadata": {},
   "outputs": [],
   "source": [
    "df.head()"
   ]
  },
  {
   "cell_type": "code",
   "execution_count": null,
   "metadata": {},
   "outputs": [],
   "source": [
    "vlist = ['Trato5','Divorce5','Hitage','Arrest','Income16'] # keep only wanted variables\n",
    "new_df = df.filter(vlist) # create new filtered dataset"
   ]
  }
 ],
 "metadata": {
  "colab": {
   "provenance": []
  },
  "kernelspec": {
   "display_name": "Python 3 (ipykernel)",
   "language": "python",
   "name": "python3"
  },
  "language_info": {
   "codemirror_mode": {
    "name": "ipython",
    "version": 3
   },
   "file_extension": ".py",
   "mimetype": "text/x-python",
   "name": "python",
   "nbconvert_exporter": "python",
   "pygments_lexer": "ipython3",
   "version": "3.9.13"
  }
 },
 "nbformat": 4,
 "nbformat_minor": 1
}
