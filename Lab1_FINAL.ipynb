{
 "cells": [
  {
   "cell_type": "markdown",
   "metadata": {},
   "source": [
    "**Summary:** \n",
    "\n",
    "How does childhood household income affect factors in adult life like education, arrests, and marital status? Variables from the General Social Survey representing the chosen life factors are analyzed by creating visualizations of data for each variable compared to income. The methods used to collect and represent the data were grouped barplots and piecharts. It was found that there was a significant positive correlation between childhood income and the respondent’s highest education level. Additionally, among each income level, the lowest and highest categories of income were associated with higher numbers of arrests. Childhood income did not seem to have any correlation with divorce rates in adult life. Overall, childhood income levels compared to the highest education level obtained aligned with our predictions before running the data. However, when comparing the income levels to the arrest and divorce variables, our data suggests that growing up in a middle income level household yields the lowest probability of being arrested and divorced. Further data would have to be collected and analyzed before the results can be validated with confidence, however it is a good starting place for future research questions specifically regarding the effects of childhood income levels to the probabilities of getting arrested or divorced. Additionally, future research studies could see whether or not there is an underlying relationship between being the arrested and divorced variables themselves.\n"
   ]
  },
  {
   "cell_type": "code",
   "execution_count": null,
   "metadata": {
    "id": "wk56KETZju4w",
    "outputId": "ba13b3dd-aca1-4a21-e36c-e0e068426b63"
   },
   "outputs": [
    {
     "name": "stderr",
     "output_type": "stream",
     "text": [
      "C:\\Users\\cynth\\AppData\\Local\\Temp\\ipykernel_20612\\2936053992.py:4: DtypeWarning: Columns (3,6) have mixed types. Specify dtype option on import or set low_memory=False.\n",
      "  df = pd.read_csv('gss_filtered.csv')\n"
     ]
    }
   ],
   "source": [
    "import pandas as pd\n",
    "import numpy as np\n",
    "\n",
    "df = pd.read_csv('gss_filtered.csv')"
   ]
  },
  {
   "cell_type": "markdown",
   "metadata": {
    "id": "Z05t63D1ju41"
   },
   "source": [
    "**Dataset and research question**\n",
    "\n",
    "The dataset used for this project is the General Social Survey, a survey that has been conducted annually since 1972. The motivation behind this survey is to examine Americans’ social and economic views, and how they have changed over time. An important question that could be derived from this dataset is, “How does household income when you were growing up affect your adult life?” We use the variable ‘incom16’ as the foundation to our question, along with 3 variables to represent factors of “adult life,” like education, arrests, and marital status."
   ]
  },
  {
   "cell_type": "code",
   "execution_count": null,
   "metadata": {
    "id": "pNAOFAEUju4x",
    "outputId": "3e1d57d0-f2a4-4512-b381-867183f5fb3c"
   },
   "outputs": [
    {
     "data": {
      "text/plain": [
       "(72390, 8)"
      ]
     },
     "execution_count": 2,
     "metadata": {},
     "output_type": "execute_result"
    }
   ],
   "source": [
    "df.shape"
   ]
  },
  {
   "cell_type": "code",
   "execution_count": null,
   "metadata": {
    "id": "5bhlv75Iju4x",
    "outputId": "8f71d824-4c37-4bec-99df-01b5da16b06b"
   },
   "outputs": [
    {
     "data": {
      "text/html": [
       "<div>\n",
       "<style scoped>\n",
       "    .dataframe tbody tr th:only-of-type {\n",
       "        vertical-align: middle;\n",
       "    }\n",
       "\n",
       "    .dataframe tbody tr th {\n",
       "        vertical-align: top;\n",
       "    }\n",
       "\n",
       "    .dataframe thead th {\n",
       "        text-align: right;\n",
       "    }\n",
       "</style>\n",
       "<table border=\"1\" class=\"dataframe\">\n",
       "  <thead>\n",
       "    <tr style=\"text-align: right;\">\n",
       "      <th></th>\n",
       "      <th>Unnamed: 0</th>\n",
       "      <th>divorce</th>\n",
       "      <th>incom16</th>\n",
       "      <th>arrest</th>\n",
       "      <th>rincome</th>\n",
       "      <th>educ</th>\n",
       "      <th>ticket</th>\n",
       "      <th>marital</th>\n",
       "    </tr>\n",
       "  </thead>\n",
       "  <tbody>\n",
       "    <tr>\n",
       "      <th>0</th>\n",
       "      <td>0</td>\n",
       "      <td>NaN</td>\n",
       "      <td>average</td>\n",
       "      <td>NaN</td>\n",
       "      <td>NaN</td>\n",
       "      <td>16.0</td>\n",
       "      <td>NaN</td>\n",
       "      <td>never married</td>\n",
       "    </tr>\n",
       "    <tr>\n",
       "      <th>1</th>\n",
       "      <td>1</td>\n",
       "      <td>no</td>\n",
       "      <td>above average</td>\n",
       "      <td>NaN</td>\n",
       "      <td>NaN</td>\n",
       "      <td>10.0</td>\n",
       "      <td>NaN</td>\n",
       "      <td>married</td>\n",
       "    </tr>\n",
       "    <tr>\n",
       "      <th>2</th>\n",
       "      <td>2</td>\n",
       "      <td>no</td>\n",
       "      <td>average</td>\n",
       "      <td>NaN</td>\n",
       "      <td>NaN</td>\n",
       "      <td>12.0</td>\n",
       "      <td>NaN</td>\n",
       "      <td>married</td>\n",
       "    </tr>\n",
       "    <tr>\n",
       "      <th>3</th>\n",
       "      <td>3</td>\n",
       "      <td>no</td>\n",
       "      <td>average</td>\n",
       "      <td>NaN</td>\n",
       "      <td>NaN</td>\n",
       "      <td>17.0</td>\n",
       "      <td>NaN</td>\n",
       "      <td>married</td>\n",
       "    </tr>\n",
       "    <tr>\n",
       "      <th>4</th>\n",
       "      <td>4</td>\n",
       "      <td>no</td>\n",
       "      <td>below average</td>\n",
       "      <td>NaN</td>\n",
       "      <td>NaN</td>\n",
       "      <td>12.0</td>\n",
       "      <td>NaN</td>\n",
       "      <td>married</td>\n",
       "    </tr>\n",
       "  </tbody>\n",
       "</table>\n",
       "</div>"
      ],
      "text/plain": [
       "   Unnamed: 0 divorce        incom16 arrest rincome  educ ticket  \\\n",
       "0           0     NaN        average    NaN     NaN  16.0    NaN   \n",
       "1           1      no  above average    NaN     NaN  10.0    NaN   \n",
       "2           2      no        average    NaN     NaN  12.0    NaN   \n",
       "3           3      no        average    NaN     NaN  17.0    NaN   \n",
       "4           4      no  below average    NaN     NaN  12.0    NaN   \n",
       "\n",
       "         marital  \n",
       "0  never married  \n",
       "1        married  \n",
       "2        married  \n",
       "3        married  \n",
       "4        married  "
      ]
     },
     "execution_count": 3,
     "metadata": {},
     "output_type": "execute_result"
    }
   ],
   "source": [
    "df.head()"
   ]
  },
  {
   "cell_type": "code",
   "execution_count": null,
   "metadata": {
    "id": "6ntQxrbTju4y",
    "outputId": "eaa58613-7e88-4c2c-afff-5d1403a6a4b0"
   },
   "outputs": [
    {
     "data": {
      "text/plain": [
       "array([0., 1.])"
      ]
     },
     "execution_count": 4,
     "metadata": {},
     "output_type": "execute_result"
    }
   ],
   "source": [
    "# Cleaned arrest\n",
    "\n",
    "df['arrest'].unique()\n",
    "df = df[df['arrest'].notna()].replace('no',0).replace('yes',1).replace('refused_(3)',np.nan)\n",
    "df = df[df['arrest'].notna()]\n",
    "df['arrest'].unique()"
   ]
  },
  {
   "cell_type": "code",
   "execution_count": null,
   "metadata": {
    "id": "S1iWlo3sju4y",
    "outputId": "044c59e9-e06f-4d94-b205-2b6f154b123c"
   },
   "outputs": [
    {
     "data": {
      "text/plain": [
       "array([nan, '$1,000 to $2,999', '$15,000 to $19,999', '$7,000 to $7,999',\n",
       "       '$8,000 to $9,999', '$20,000 to $24,999', '$4,000 to $4,999',\n",
       "       '$10,000 to $14,999', '$25,000 or more', '$3,000 to $3,999',\n",
       "       'under $1,000', '$5,000 to $5,999', '$6,000 to $6,999'],\n",
       "      dtype=object)"
      ]
     },
     "execution_count": 5,
     "metadata": {},
     "output_type": "execute_result"
    }
   ],
   "source": [
    "df['rincome'].unique()"
   ]
  },
  {
   "cell_type": "code",
   "execution_count": null,
   "metadata": {
    "id": "I58TLz7qju4y"
   },
   "outputs": [],
   "source": [
    "# Cleaned data of rincome\n",
    "\n",
    "df = df[df['rincome'].notna()].replace('$1,000 to $2,999', 1).replace('$15,000 to $19,999',9).replace('$7,000 to $7,999',6).replace('$8,000 to $9,999',7).replace('$20,000 to $24,999',10).replace('$4,000 to $4,999',3).replace('$10,000 to $14,999',8).replace('$25,000 or more',11).replace('$3,000 to $3,999',2).replace('under $1,000',0).replace('$5,000 to $5,999',4).replace('$6,000 to $6,999',5)"
   ]
  },
  {
   "cell_type": "code",
   "execution_count": null,
   "metadata": {
    "id": "FzLuLGPUju4y",
    "outputId": "d9013483-150b-4bc8-a1c1-05ddf23c2f23"
   },
   "outputs": [
    {
     "data": {
      "text/html": [
       "<div>\n",
       "<style scoped>\n",
       "    .dataframe tbody tr th:only-of-type {\n",
       "        vertical-align: middle;\n",
       "    }\n",
       "\n",
       "    .dataframe tbody tr th {\n",
       "        vertical-align: top;\n",
       "    }\n",
       "\n",
       "    .dataframe thead th {\n",
       "        text-align: right;\n",
       "    }\n",
       "</style>\n",
       "<table border=\"1\" class=\"dataframe\">\n",
       "  <thead>\n",
       "    <tr style=\"text-align: right;\">\n",
       "      <th></th>\n",
       "      <th>Unnamed: 0</th>\n",
       "      <th>divorce</th>\n",
       "      <th>incom16</th>\n",
       "      <th>arrest</th>\n",
       "      <th>rincome</th>\n",
       "      <th>educ</th>\n",
       "      <th>ticket</th>\n",
       "      <th>marital</th>\n",
       "    </tr>\n",
       "  </thead>\n",
       "  <tbody>\n",
       "    <tr>\n",
       "      <th>3117</th>\n",
       "      <td>3117</td>\n",
       "      <td>0.0</td>\n",
       "      <td>3</td>\n",
       "      <td>0.0</td>\n",
       "      <td>1</td>\n",
       "      <td>14.0</td>\n",
       "      <td>0.0</td>\n",
       "      <td>married</td>\n",
       "    </tr>\n",
       "    <tr>\n",
       "      <th>3118</th>\n",
       "      <td>3118</td>\n",
       "      <td>0.0</td>\n",
       "      <td>2</td>\n",
       "      <td>0.0</td>\n",
       "      <td>9</td>\n",
       "      <td>16.0</td>\n",
       "      <td>1.0</td>\n",
       "      <td>married</td>\n",
       "    </tr>\n",
       "    <tr>\n",
       "      <th>3121</th>\n",
       "      <td>3121</td>\n",
       "      <td>NaN</td>\n",
       "      <td>2</td>\n",
       "      <td>0.0</td>\n",
       "      <td>6</td>\n",
       "      <td>12.0</td>\n",
       "      <td>1.0</td>\n",
       "      <td>never married</td>\n",
       "    </tr>\n",
       "    <tr>\n",
       "      <th>3122</th>\n",
       "      <td>3122</td>\n",
       "      <td>0.0</td>\n",
       "      <td>2</td>\n",
       "      <td>0.0</td>\n",
       "      <td>7</td>\n",
       "      <td>16.0</td>\n",
       "      <td>1.0</td>\n",
       "      <td>married</td>\n",
       "    </tr>\n",
       "    <tr>\n",
       "      <th>3123</th>\n",
       "      <td>3123</td>\n",
       "      <td>0.0</td>\n",
       "      <td>1</td>\n",
       "      <td>0.0</td>\n",
       "      <td>10</td>\n",
       "      <td>17.0</td>\n",
       "      <td>1.0</td>\n",
       "      <td>married</td>\n",
       "    </tr>\n",
       "  </tbody>\n",
       "</table>\n",
       "</div>"
      ],
      "text/plain": [
       "      Unnamed: 0  divorce  incom16  arrest  rincome  educ  ticket  \\\n",
       "3117        3117      0.0        3     0.0        1  14.0     0.0   \n",
       "3118        3118      0.0        2     0.0        9  16.0     1.0   \n",
       "3121        3121      NaN        2     0.0        6  12.0     1.0   \n",
       "3122        3122      0.0        2     0.0        7  16.0     1.0   \n",
       "3123        3123      0.0        1     0.0       10  17.0     1.0   \n",
       "\n",
       "            marital  \n",
       "3117        married  \n",
       "3118        married  \n",
       "3121  never married  \n",
       "3122        married  \n",
       "3123        married  "
      ]
     },
     "execution_count": 7,
     "metadata": {},
     "output_type": "execute_result"
    }
   ],
   "source": [
    "# Cleaned data of incom16\n",
    "\n",
    "df['incom16'].unique()\n",
    "df = df[df['incom16'].notna()].replace('far below average',0).replace('below average',1).replace('average',2).replace('above average',3).replace('far above average',4)\n",
    "df.head()"
   ]
  },
  {
   "cell_type": "code",
   "execution_count": null,
   "metadata": {
    "id": "MD3XBk1Cju4y",
    "outputId": "9f272271-4f31-4c4c-81ab-fe1f09bd0385"
   },
   "outputs": [
    {
     "data": {
      "text/plain": [
       "array([0, 1], dtype=int64)"
      ]
     },
     "execution_count": 8,
     "metadata": {},
     "output_type": "execute_result"
    }
   ],
   "source": [
    "# Cleaned marital variable\n",
    "\n",
    "df['marital'].unique()\n",
    "df['marital'] = df['marital'].replace('married',0).replace('never married',0).replace('widowed',0).replace('divorced',1).replace('separated',1)\n",
    "df['marital'].unique()"
   ]
  },
  {
   "cell_type": "code",
   "execution_count": null,
   "metadata": {
    "id": "AeyDJOMiju4y",
    "outputId": "642b17af-8051-4119-d5fd-fb0017fda5c8"
   },
   "outputs": [
    {
     "data": {
      "text/html": [
       "<div>\n",
       "<style scoped>\n",
       "    .dataframe tbody tr th:only-of-type {\n",
       "        vertical-align: middle;\n",
       "    }\n",
       "\n",
       "    .dataframe tbody tr th {\n",
       "        vertical-align: top;\n",
       "    }\n",
       "\n",
       "    .dataframe thead th {\n",
       "        text-align: right;\n",
       "    }\n",
       "</style>\n",
       "<table border=\"1\" class=\"dataframe\">\n",
       "  <thead>\n",
       "    <tr style=\"text-align: right;\">\n",
       "      <th></th>\n",
       "      <th>Unnamed: 0</th>\n",
       "      <th>divorce</th>\n",
       "      <th>incom16</th>\n",
       "      <th>arrest</th>\n",
       "      <th>rincome</th>\n",
       "      <th>educ</th>\n",
       "      <th>ticket</th>\n",
       "      <th>marital</th>\n",
       "    </tr>\n",
       "  </thead>\n",
       "  <tbody>\n",
       "    <tr>\n",
       "      <th>3117</th>\n",
       "      <td>3117</td>\n",
       "      <td>0.0</td>\n",
       "      <td>3</td>\n",
       "      <td>0.0</td>\n",
       "      <td>1</td>\n",
       "      <td>14.0</td>\n",
       "      <td>0.0</td>\n",
       "      <td>0</td>\n",
       "    </tr>\n",
       "    <tr>\n",
       "      <th>3118</th>\n",
       "      <td>3118</td>\n",
       "      <td>0.0</td>\n",
       "      <td>2</td>\n",
       "      <td>0.0</td>\n",
       "      <td>9</td>\n",
       "      <td>16.0</td>\n",
       "      <td>1.0</td>\n",
       "      <td>0</td>\n",
       "    </tr>\n",
       "    <tr>\n",
       "      <th>3121</th>\n",
       "      <td>3121</td>\n",
       "      <td>NaN</td>\n",
       "      <td>2</td>\n",
       "      <td>0.0</td>\n",
       "      <td>6</td>\n",
       "      <td>12.0</td>\n",
       "      <td>1.0</td>\n",
       "      <td>0</td>\n",
       "    </tr>\n",
       "    <tr>\n",
       "      <th>3122</th>\n",
       "      <td>3122</td>\n",
       "      <td>0.0</td>\n",
       "      <td>2</td>\n",
       "      <td>0.0</td>\n",
       "      <td>7</td>\n",
       "      <td>16.0</td>\n",
       "      <td>1.0</td>\n",
       "      <td>0</td>\n",
       "    </tr>\n",
       "    <tr>\n",
       "      <th>3123</th>\n",
       "      <td>3123</td>\n",
       "      <td>0.0</td>\n",
       "      <td>1</td>\n",
       "      <td>0.0</td>\n",
       "      <td>10</td>\n",
       "      <td>17.0</td>\n",
       "      <td>1.0</td>\n",
       "      <td>0</td>\n",
       "    </tr>\n",
       "  </tbody>\n",
       "</table>\n",
       "</div>"
      ],
      "text/plain": [
       "      Unnamed: 0  divorce  incom16  arrest  rincome  educ  ticket  marital\n",
       "3117        3117      0.0        3     0.0        1  14.0     0.0        0\n",
       "3118        3118      0.0        2     0.0        9  16.0     1.0        0\n",
       "3121        3121      NaN        2     0.0        6  12.0     1.0        0\n",
       "3122        3122      0.0        2     0.0        7  16.0     1.0        0\n",
       "3123        3123      0.0        1     0.0       10  17.0     1.0        0"
      ]
     },
     "execution_count": 9,
     "metadata": {},
     "output_type": "execute_result"
    }
   ],
   "source": [
    "df.head()"
   ]
  },
  {
   "cell_type": "code",
   "execution_count": null,
   "metadata": {
    "id": "JzMuC5eXju4z",
    "outputId": "fd23b691-bc6c-4e6b-8e00-187bede44d99"
   },
   "outputs": [
    {
     "data": {
      "text/html": [
       "<div>\n",
       "<style scoped>\n",
       "    .dataframe tbody tr th:only-of-type {\n",
       "        vertical-align: middle;\n",
       "    }\n",
       "\n",
       "    .dataframe tbody tr th {\n",
       "        vertical-align: top;\n",
       "    }\n",
       "\n",
       "    .dataframe thead th {\n",
       "        text-align: right;\n",
       "    }\n",
       "</style>\n",
       "<table border=\"1\" class=\"dataframe\">\n",
       "  <thead>\n",
       "    <tr style=\"text-align: right;\">\n",
       "      <th></th>\n",
       "      <th>Unnamed: 0</th>\n",
       "      <th>incom16</th>\n",
       "      <th>arrest</th>\n",
       "      <th>educ</th>\n",
       "      <th>ticket</th>\n",
       "      <th>marital</th>\n",
       "    </tr>\n",
       "  </thead>\n",
       "  <tbody>\n",
       "    <tr>\n",
       "      <th>3117</th>\n",
       "      <td>3117</td>\n",
       "      <td>3</td>\n",
       "      <td>0.0</td>\n",
       "      <td>14.0</td>\n",
       "      <td>0.0</td>\n",
       "      <td>0</td>\n",
       "    </tr>\n",
       "    <tr>\n",
       "      <th>3118</th>\n",
       "      <td>3118</td>\n",
       "      <td>2</td>\n",
       "      <td>0.0</td>\n",
       "      <td>16.0</td>\n",
       "      <td>1.0</td>\n",
       "      <td>0</td>\n",
       "    </tr>\n",
       "    <tr>\n",
       "      <th>3121</th>\n",
       "      <td>3121</td>\n",
       "      <td>2</td>\n",
       "      <td>0.0</td>\n",
       "      <td>12.0</td>\n",
       "      <td>1.0</td>\n",
       "      <td>0</td>\n",
       "    </tr>\n",
       "    <tr>\n",
       "      <th>3122</th>\n",
       "      <td>3122</td>\n",
       "      <td>2</td>\n",
       "      <td>0.0</td>\n",
       "      <td>16.0</td>\n",
       "      <td>1.0</td>\n",
       "      <td>0</td>\n",
       "    </tr>\n",
       "    <tr>\n",
       "      <th>3123</th>\n",
       "      <td>3123</td>\n",
       "      <td>1</td>\n",
       "      <td>0.0</td>\n",
       "      <td>17.0</td>\n",
       "      <td>1.0</td>\n",
       "      <td>0</td>\n",
       "    </tr>\n",
       "  </tbody>\n",
       "</table>\n",
       "</div>"
      ],
      "text/plain": [
       "      Unnamed: 0  incom16  arrest  educ  ticket  marital\n",
       "3117        3117        3     0.0  14.0     0.0        0\n",
       "3118        3118        2     0.0  16.0     1.0        0\n",
       "3121        3121        2     0.0  12.0     1.0        0\n",
       "3122        3122        2     0.0  16.0     1.0        0\n",
       "3123        3123        1     0.0  17.0     1.0        0"
      ]
     },
     "execution_count": 10,
     "metadata": {},
     "output_type": "execute_result"
    }
   ],
   "source": [
    "df = df.drop('divorce',axis=1).drop('rincome',axis=1)\n",
    "df.head()"
   ]
  },
  {
   "cell_type": "code",
   "execution_count": null,
   "metadata": {
    "id": "NI3q_PpHju4z",
    "outputId": "24881d32-d7cb-4002-96b7-93073e027f7b"
   },
   "outputs": [
    {
     "name": "stdout",
     "output_type": "stream",
     "text": [
      "Unnamed: 0     0\n",
      "incom16        0\n",
      "arrest         0\n",
      "educ          10\n",
      "ticket         8\n",
      "marital        0\n",
      "dtype: int64\n"
     ]
    }
   ],
   "source": [
    "print(df.isna().sum())"
   ]
  },
  {
   "cell_type": "code",
   "execution_count": null,
   "metadata": {
    "id": "afLM2PoIju4z",
    "outputId": "c9a013dc-2923-425c-9bcd-bc0107561d7d"
   },
   "outputs": [
    {
     "data": {
      "text/plain": [
       "array([0., 1.])"
      ]
     },
     "execution_count": 12,
     "metadata": {},
     "output_type": "execute_result"
    }
   ],
   "source": [
    "# Cleaned ticket variable\n",
    "\n",
    "df = df[df['ticket'].notna()]\n",
    "df['ticket'].unique()"
   ]
  },
  {
   "cell_type": "code",
   "execution_count": null,
   "metadata": {
    "id": "2GFskxV3ju4z",
    "outputId": "b515a6da-b640-43c3-8f0f-1733b37ccbfe"
   },
   "outputs": [
    {
     "data": {
      "text/plain": [
       "array([14., 16., 12., 17., 11.,  8.,  9., 15., 13., 10., 20., 18.,  7.,\n",
       "       19.,  0.,  4.,  6.,  5.,  3.,  2.,  1.])"
      ]
     },
     "execution_count": 13,
     "metadata": {},
     "output_type": "execute_result"
    }
   ],
   "source": [
    "# Cleaned education variable part 1\n",
    "\n",
    "df = df[df['educ'].notna()]\n",
    "df['educ'].unique()"
   ]
  },
  {
   "cell_type": "code",
   "execution_count": null,
   "metadata": {
    "id": "GYCCzHhmju40",
    "outputId": "c8f97919-7051-4ee1-c0f9-5ed937f3b33c"
   },
   "outputs": [
    {
     "data": {
      "text/html": [
       "<div>\n",
       "<style scoped>\n",
       "    .dataframe tbody tr th:only-of-type {\n",
       "        vertical-align: middle;\n",
       "    }\n",
       "\n",
       "    .dataframe tbody tr th {\n",
       "        vertical-align: top;\n",
       "    }\n",
       "\n",
       "    .dataframe thead th {\n",
       "        text-align: right;\n",
       "    }\n",
       "</style>\n",
       "<table border=\"1\" class=\"dataframe\">\n",
       "  <thead>\n",
       "    <tr style=\"text-align: right;\">\n",
       "      <th></th>\n",
       "      <th>Unnamed: 0</th>\n",
       "      <th>incom16</th>\n",
       "      <th>arrest</th>\n",
       "      <th>educ</th>\n",
       "      <th>ticket</th>\n",
       "      <th>marital</th>\n",
       "    </tr>\n",
       "  </thead>\n",
       "  <tbody>\n",
       "    <tr>\n",
       "      <th>3117</th>\n",
       "      <td>3117</td>\n",
       "      <td>3</td>\n",
       "      <td>0.0</td>\n",
       "      <td>14.0</td>\n",
       "      <td>0.0</td>\n",
       "      <td>0</td>\n",
       "    </tr>\n",
       "    <tr>\n",
       "      <th>3118</th>\n",
       "      <td>3118</td>\n",
       "      <td>2</td>\n",
       "      <td>0.0</td>\n",
       "      <td>16.0</td>\n",
       "      <td>1.0</td>\n",
       "      <td>0</td>\n",
       "    </tr>\n",
       "    <tr>\n",
       "      <th>3121</th>\n",
       "      <td>3121</td>\n",
       "      <td>2</td>\n",
       "      <td>0.0</td>\n",
       "      <td>12.0</td>\n",
       "      <td>1.0</td>\n",
       "      <td>0</td>\n",
       "    </tr>\n",
       "    <tr>\n",
       "      <th>3122</th>\n",
       "      <td>3122</td>\n",
       "      <td>2</td>\n",
       "      <td>0.0</td>\n",
       "      <td>16.0</td>\n",
       "      <td>1.0</td>\n",
       "      <td>0</td>\n",
       "    </tr>\n",
       "    <tr>\n",
       "      <th>3123</th>\n",
       "      <td>3123</td>\n",
       "      <td>1</td>\n",
       "      <td>0.0</td>\n",
       "      <td>17.0</td>\n",
       "      <td>1.0</td>\n",
       "      <td>0</td>\n",
       "    </tr>\n",
       "  </tbody>\n",
       "</table>\n",
       "</div>"
      ],
      "text/plain": [
       "      Unnamed: 0  incom16  arrest  educ  ticket  marital\n",
       "3117        3117        3     0.0  14.0     0.0        0\n",
       "3118        3118        2     0.0  16.0     1.0        0\n",
       "3121        3121        2     0.0  12.0     1.0        0\n",
       "3122        3122        2     0.0  16.0     1.0        0\n",
       "3123        3123        1     0.0  17.0     1.0        0"
      ]
     },
     "execution_count": 14,
     "metadata": {},
     "output_type": "execute_result"
    }
   ],
   "source": [
    "df.head()"
   ]
  },
  {
   "cell_type": "code",
   "execution_count": null,
   "metadata": {
    "id": "2heFuNahju40",
    "outputId": "be61b0cc-8932-4094-89b1-e132053b4f45"
   },
   "outputs": [
    {
     "data": {
      "text/html": [
       "<div>\n",
       "<style scoped>\n",
       "    .dataframe tbody tr th:only-of-type {\n",
       "        vertical-align: middle;\n",
       "    }\n",
       "\n",
       "    .dataframe tbody tr th {\n",
       "        vertical-align: top;\n",
       "    }\n",
       "\n",
       "    .dataframe thead th {\n",
       "        text-align: right;\n",
       "    }\n",
       "</style>\n",
       "<table border=\"1\" class=\"dataframe\">\n",
       "  <thead>\n",
       "    <tr style=\"text-align: right;\">\n",
       "      <th></th>\n",
       "      <th>Unnamed: 0</th>\n",
       "      <th>incom16</th>\n",
       "      <th>arrest</th>\n",
       "      <th>educ</th>\n",
       "      <th>ticket</th>\n",
       "      <th>marital</th>\n",
       "    </tr>\n",
       "  </thead>\n",
       "  <tbody>\n",
       "    <tr>\n",
       "      <th>3117</th>\n",
       "      <td>3117</td>\n",
       "      <td>3</td>\n",
       "      <td>0.0</td>\n",
       "      <td>2</td>\n",
       "      <td>0.0</td>\n",
       "      <td>0</td>\n",
       "    </tr>\n",
       "    <tr>\n",
       "      <th>3118</th>\n",
       "      <td>3118</td>\n",
       "      <td>2</td>\n",
       "      <td>0.0</td>\n",
       "      <td>3</td>\n",
       "      <td>1.0</td>\n",
       "      <td>0</td>\n",
       "    </tr>\n",
       "    <tr>\n",
       "      <th>3121</th>\n",
       "      <td>3121</td>\n",
       "      <td>2</td>\n",
       "      <td>0.0</td>\n",
       "      <td>1</td>\n",
       "      <td>1.0</td>\n",
       "      <td>0</td>\n",
       "    </tr>\n",
       "    <tr>\n",
       "      <th>3122</th>\n",
       "      <td>3122</td>\n",
       "      <td>2</td>\n",
       "      <td>0.0</td>\n",
       "      <td>3</td>\n",
       "      <td>1.0</td>\n",
       "      <td>0</td>\n",
       "    </tr>\n",
       "    <tr>\n",
       "      <th>3123</th>\n",
       "      <td>3123</td>\n",
       "      <td>1</td>\n",
       "      <td>0.0</td>\n",
       "      <td>4</td>\n",
       "      <td>1.0</td>\n",
       "      <td>0</td>\n",
       "    </tr>\n",
       "  </tbody>\n",
       "</table>\n",
       "</div>"
      ],
      "text/plain": [
       "      Unnamed: 0  incom16  arrest  educ  ticket  marital\n",
       "3117        3117        3     0.0     2     0.0        0\n",
       "3118        3118        2     0.0     3     1.0        0\n",
       "3121        3121        2     0.0     1     1.0        0\n",
       "3122        3122        2     0.0     3     1.0        0\n",
       "3123        3123        1     0.0     4     1.0        0"
      ]
     },
     "execution_count": 15,
     "metadata": {},
     "output_type": "execute_result"
    }
   ],
   "source": [
    "# Cleaned education variable part 2\n",
    "\n",
    "def educ(x):\n",
    "    if (0 <= x <= 11):\n",
    "        return 0\n",
    "    elif(x == 12):\n",
    "        return 1\n",
    "    elif(13 <= x <=15):\n",
    "        return 2\n",
    "    elif(x == 16):\n",
    "        return 3\n",
    "    elif(x > 16):\n",
    "        return 4\n",
    "df['educ'] = df['educ'].apply(educ)\n",
    "df.head()"
   ]
  },
  {
   "cell_type": "markdown",
   "metadata": {
    "id": "FTTjy1jk_upU"
   },
   "source": [
    "**Variable summary**\n",
    "\n",
    "|Variable Name |Description |Responses |Variable values (original == transformed) |\n",
    "| ------------ | ---------- | -------- |------------------------------------------|\n",
    "|Income16 |At the age of 16, compared with average American families at that time, how would you rate your family income? |Far below average, Below average, Average Above average, Far above average, Lived in institution, Don’t know, No answer, Not applicable |Far below average == 0, Below average == 1, Average == 2, Above average == 3, Far above average == 4|\n",
    "|Educ|What is the highest year of school completed?|Responses are given corresponding to grade level.For K-12 grades the responses  are from 0-12. For higher education, responses of 13-15 is some college, 16 is bachelors, and 17-20 is beyond a bachelors. |0-11 == 0 (did not complete high school), 12 == 1 (completed high school), 13-15 == 2 (some college), 16 == 3 (bachelor’s degree), 17-20 == 4 (greater than bachelor’s)|\n",
    "|Arrest|Were you ever picked up, or charged, by the police, for any (other) reason whether or not you are guilty?|Yes, No, Refused, Don’t know, No answer, Not applicable|No == 0, Yes == 1, Dropped the rest of the responses|\n",
    "|Marital |Are you currently--married, widowed, divorced, separated, or have you never been married? | Married, Widowed, Divorced, Separated, Never married|Married, Widowed, Never married == 0, Divorced, Separated == 1 |\n"
   ]
  },
  {
   "cell_type": "markdown",
   "metadata": {
    "id": "pvun4Zkn_upU"
   },
   "source": [
    "**Challenges when working with data**\n",
    "\n",
    "We had reading challenges because of the size of the data itself; it caused issues with loading the entirety of the dataset. The dataset was too big for Colab to handle and would not include all of the rows that we needed. For example, when looking at the shape of gss.csv on Colab, it would read as having only 390 rows, which we know was not true. To fix this issue, we downloaded the entire dataset locally and used Visual Studio Code to filter our data and save a new CSV file. We imported this new dataset into Rivanna for cleaning and visualization.\n",
    "\n",
    "We also had challenges with understanding/preparing our arrest variable. The arrest question was only asked if the respondent had answered yes to receiving a traffic ticket. This means that the arrest variable does not account for people who have committed more serious crimes, but did not receive a traffic ticket. We looked at other variables that may include a larger number of respondents, such as convicted or locked-up, but those questions only had responses for 2012. Even though it is a smaller subset, it provides us enough information about arrests to allow us to form relationships between arrest and income.\n",
    "\n",
    "Issues we had with cleaning was making the column values numerical or binary. For example, we turned the marital column into the binary. We set marital == 0 if the response was “married,” “never married,” and “widowed,” and marital == 1 if the response was “divorced” or “separated.” The “Variable values” column in our previous table describes how we transformed the rest of our variables. For the arrest variable, we dropped responses that were “Refused,” “Don’t know,” “No answer,” and “Not applicable” since we could not find any previous questions that would allude to setting either of these values as “yes” or “no.”\n"
   ]
  },
  {
   "cell_type": "code",
   "execution_count": null,
   "metadata": {
    "id": "go9iCQatju40"
   },
   "outputs": [],
   "source": [
    "import seaborn as sns"
   ]
  },
  {
   "cell_type": "code",
   "execution_count": null,
   "metadata": {
    "id": "NCtGfUjjju40"
   },
   "outputs": [],
   "source": [
    "var1 = 'incom16'\n",
    "var2 = 'arrest'\n",
    "var3 = 'educ'\n",
    "var4 = 'ticket'\n",
    "var5 = 'marital'\n",
    "\n",
    "# sns.countplot(data=df, x=var1, hue = var2)"
   ]
  },
  {
   "cell_type": "code",
   "execution_count": null,
   "metadata": {
    "id": "A4SSA8FSju40",
    "outputId": "3b58ef31-63b0-4c54-d946-956476a2bb3c"
   },
   "outputs": [
    {
     "data": {
      "text/plain": [
       "[Text(0.5, 1.0, 'Childhood Income vs. Likeliness of Arrest'),\n",
       " Text(0, 0.5, 'Percentage'),\n",
       " Text(0.5, 0, 'Childhood income')]"
      ]
     },
     "execution_count": 39,
     "metadata": {},
     "output_type": "execute_result"
    },
    {
     "data": {
      "image/png": "[encoded data removed]",
      "text/plain": [
       "<Figure size 640x480 with 1 Axes>"
      ]
     },
     "metadata": {},
     "output_type": "display_data"
    }
   ],
   "source": [
    "# plot incom16 and arrest\n",
    "\n",
    "# create a function to determine percentage, code helped with chatgpt\n",
    "def calculate_percentages(group):\n",
    "    total_count = group.sum()\n",
    "    return 100 * group / total_count\n",
    "\n",
    "# create the data for the y-axis \n",
    "grouped_data = df.groupby([var1, var2]).size().unstack()\n",
    "percentage_data = grouped_data.apply(calculate_percentages, axis=1).stack().reset_index(name=\"Percentage\") # last chunk of code help from chatgpt\n",
    "\n",
    "# create the plot\n",
    "sns.barplot(data=percentage_data, x=var1, y=\"Percentage\", hue=var2).set(title = 'Childhood Income vs. Likeliness of Arrest', ylabel='Percentage', xlabel = 'Childhood income')"
   ]
  },
  {
   "cell_type": "code",
   "execution_count": null,
   "metadata": {
    "id": "c2HXVwg1ju40"
   },
   "outputs": [],
   "source": [
    "# Incom16 grouped by arrest\n",
    "#df.groupby(['incom16','arrest']).size().unstack().plot(kind='bar',stacked=True)"
   ]
  },
  {
   "cell_type": "code",
   "execution_count": null,
   "metadata": {
    "id": "uPm6atPlju41",
    "outputId": "be5c7131-f353-4430-e721-c9c2e8a2145a"
   },
   "outputs": [
    {
     "data": {
      "text/plain": [
       "[Text(0.5, 1.0, 'Childhood Income vs. Highest Attained Education Level'),\n",
       " Text(0, 0.5, 'Percentage'),\n",
       " Text(0.5, 0, 'Childhood income')]"
      ]
     },
     "execution_count": 40,
     "metadata": {},
     "output_type": "execute_result"
    },
    {
     "data": {
      "image/png": "[encoded data removed]",
      "text/plain": [
       "<Figure size 640x480 with 1 Axes>"
      ]
     },
     "metadata": {},
     "output_type": "display_data"
    }
   ],
   "source": [
    "# plot incom16 grouped by education\n",
    "\n",
    "# create the data for the y-axis \n",
    "grouped_data = df.groupby([var1, var3]).size().unstack()\n",
    "percentage_data = grouped_data.apply(calculate_percentages, axis=1).stack().reset_index(name=\"Percentage\")\n",
    "\n",
    "# create the plot\n",
    "sns.barplot(data=percentage_data, x=var1, y=\"Percentage\", hue=var3).set(title='Childhood Income vs. Highest Attained Education Level', ylabel ='Percentage', xlabel = 'Childhood income')\n",
    "\n",
    "\n",
    "\n",
    "#ptable = df.groupby(['incom16','educ']).size().unstack()\n",
    "#ax = ptable.plot(kind='bar',stacked=True)\n",
    "#sns.countplot(data=df, x=var1, hue = var3)\n"
   ]
  },
  {
   "cell_type": "code",
   "execution_count": null,
   "metadata": {
    "id": "fumHfWIU_upU",
    "outputId": "c40842a9-cd63-40c2-d29b-303dc5023050"
   },
   "outputs": [
    {
     "name": "stderr",
     "output_type": "stream",
     "text": [
      "C:\\Users\\cynth\\AppData\\Local\\Temp\\ipykernel_20612\\3778046575.py:8: SettingWithCopyWarning: \n",
      "A value is trying to be set on a copy of a slice from a DataFrame.\n",
      "Try using .loc[row_indexer,col_indexer] = value instead\n",
      "\n",
      "See the caveats in the documentation: https://pandas.pydata.org/pandas-docs/stable/user_guide/indexing.html#returning-a-view-versus-a-copy\n",
      "  filtered_data['educ'] = pd.to_numeric(filtered_data['educ'], errors='coerce')\n"
     ]
    },
    {
     "data": {
      "image/png": "[encoded data removed]",
      "text/plain": [
       "<Figure size 640x480 with 1 Axes>"
      ]
     },
     "metadata": {},
     "output_type": "display_data"
    }
   ],
   "source": [
    "# create pie chart of far below average income and highest attained level of education, code help from statology \n",
    "\n",
    "filtered_data = df[df['incom16'] == 0]\n",
    "\n",
    "# define the labels and colors\n",
    "labels = ['Did not finish high school', 'Finished high school', 'Some college', 'Bachelors', 'Greater than bachelors']\n",
    "colors = sns.color_palette('pastel')[0:5]\n",
    "\n",
    "# clean the education column\n",
    "filtered_data['educ'] = pd.to_numeric(filtered_data['educ'], errors='coerce')\n",
    "\n",
    "# create data for pie chart\n",
    "category_counts = filtered_data['educ'].value_counts()\n",
    "\n",
    "# create the pie chart\n",
    "plt.pie(category_counts, labels=labels, colors=colors, autopct='%.0f%%')\n",
    "plt.title(\"Distribution of Education Level for Far Below Average Incomes\")\n",
    "plt.show()"
   ]
  },
  {
   "cell_type": "code",
   "execution_count": null,
   "metadata": {
    "id": "-xtQdcBB_upU",
    "outputId": "71e752f4-4516-4a5a-ac90-34f95db3d1b5"
   },
   "outputs": [
    {
     "name": "stderr",
     "output_type": "stream",
     "text": [
      "C:\\Users\\cynth\\AppData\\Local\\Temp\\ipykernel_20612\\3087231939.py:8: SettingWithCopyWarning: \n",
      "A value is trying to be set on a copy of a slice from a DataFrame.\n",
      "Try using .loc[row_indexer,col_indexer] = value instead\n",
      "\n",
      "See the caveats in the documentation: https://pandas.pydata.org/pandas-docs/stable/user_guide/indexing.html#returning-a-view-versus-a-copy\n",
      "  filtered_data['educ'] = pd.to_numeric(filtered_data['educ'], errors='coerce')\n"
     ]
    },
    {
     "data": {
      "image/png": "[encoded data removed]",
      "text/plain": [
       "<Figure size 640x480 with 1 Axes>"
      ]
     },
     "metadata": {},
     "output_type": "display_data"
    }
   ],
   "source": [
    "filtered_data = df[df['incom16'] == 4]\n",
    "\n",
    "# define the labels and colors\n",
    "labels = ['Did not finish high school', 'Finished high school', 'Some college', 'Bachelors', 'Greater than bachelors']\n",
    "colors = sns.color_palette('pastel')[0:5]\n",
    "\n",
    "# clean the education column\n",
    "filtered_data['educ'] = pd.to_numeric(filtered_data['educ'], errors='coerce')\n",
    "\n",
    "# create data for pie chart\n",
    "category_counts = filtered_data['educ'].value_counts()\n",
    "\n",
    "# create the pie chart\n",
    "plt.pie(category_counts, labels=labels, colors=colors, autopct='%.0f%%')\n",
    "plt.title(\"Distribution of Education Level for Far Above Average Incomes\")\n",
    "plt.show()"
   ]
  },
  {
   "cell_type": "code",
   "execution_count": null,
   "metadata": {
    "colab": {
     "base_uri": "https://localhost:8080/",
     "height": 467
    },
    "id": "fCE7Vtjiju41",
    "outputId": "02176b84-a567-4185-df2b-0f1108b5196e"
   },
   "outputs": [
    {
     "data": {
      "text/plain": [
       "[Text(0.5, 1.0, 'Childhood Income vs. Likelihood of Divorce'),\n",
       " Text(0, 0.5, 'Percentage'),\n",
       " Text(0.5, 0, 'Childhood income')]"
      ]
     },
     "execution_count": 42,
     "metadata": {},
     "output_type": "execute_result"
    },
    {
     "data": {
      "image/png": "[encoded data removed]",
      "text/plain": [
       "<Figure size 640x480 with 1 Axes>"
      ]
     },
     "metadata": {},
     "output_type": "display_data"
    }
   ],
   "source": [
    "# plot incom16 grouped by divorce\n",
    "#group_by = 'incom16'\n",
    "#var = 'marital'\n",
    "#df_wide = df.pivot(columns=group_by,values=var)\n",
    "#df_wide.plot.density()\n",
    "#df_wide.loc[:,['0','1','2','3','4']].plot.density()\n",
    "#df.groupby(['incom16','marital']).size().unstack().plot(kind='bar',stacked=True)\n",
    "\n",
    "# create the data for the y-axis\n",
    "grouped_data = df.groupby([var1, var5]).size().unstack()\n",
    "percentage_data = grouped_data.apply(calculate_percentages, axis=1).stack().reset_index(name=\"Percentage\")\n",
    "\n",
    "# create the plot\n",
    "sns.barplot(data=percentage_data, x=var1, y=\"Percentage\", hue=var5).set(title='Childhood Income vs. Likelihood of Divorce', ylabel = 'Percentage', xlabel = 'Childhood income')\n",
    "\n",
    "#get divorce percentages GIVEN person is married"
   ]
  },
  {
   "cell_type": "markdown",
   "metadata": {
    "id": "8QCe_xCT_1HR"
   },
   "source": [
    "**Results:**\n",
    "\n",
    "Using the incom16 variable as the independent variable, we analyzed how the different metrics of arrests, divorce rate, and education level, all of which generally can be used to determine success in an adult life, are influenced by household income when growing up. Our initial analysis focuses on how whether people have been arrested or not varies with household income growing up. We can see a trend below in the graph, where people who were very poor or very rich growing up have a higher likelihood of being arrested than those who grew up in the middle class. Our original hypothesis was to see a general downward trend in likelihood of arrest childhood income levels increased, however the data suggest that middle class income levels produce lower rates of arrest than the higher income levels. View Graph 1 for reference.\n",
    "\n",
    "The next aspect of adult life analyzed against household income level growing up was education level. It is clear in the graph below that there is a strong positive correlation between household income level growing up and the maximum level of education achieved in one’s adult life. This trend, that education level increases with household income growing up, remains true for those with at least some college experience, a bachelor’s degree, and higher education than that. When looking specifically at those who did not complete high school, the lowest income level has a significantly higher percentage than any other level. When looking at groups of people who have only completed high school or have no degree at all, we can see that as household income increases, although there is less strict of a trend, the amount of people in these groups diminishes overall.  View graph 2 for reference. A more clear visualization can be seen in the pie charts below, showing the distribution of education levels at the lowest level and highest level of income. View graph 3 and 4 for reference.\n",
    "    \n",
    "Finally, we examined how divorce data varies as household income when growing up varies. We can see that there is actually not a very strong correlation between household income when growing up and divorce rates. There is a slight increase in divorce rates at the lowest income level, but despite this outlier, there is no significant trend observable in the data to form an adequate conclusion on the correlation between household income when growing up and the likelihood of getting a divorce. View graph 5 for reference.\n"
   ]
  },
  {
   "cell_type": "markdown",
   "metadata": {},
   "source": [
    "**Conclusion:** \n",
    "\n",
    "This project explored the relationship between childhood household income and key factors of “success” in adult life, like education, arrests, and marital status. This was determined using the dataset of the General Social Survey (GSS), an annual survey conducted since 1972 to collect information on tens of thousands of Americans. The primary variable of interest was “incom16”, which gauged respondents’ perceptions of their family income at the age of 16. \n",
    "The size of the dataset was a challenge, initially containing around 72,000 observations before cleaning. In order to make the dataset more manageable, only the relevant variables were kept; however, the size of the dataset made it incompatible with the first Jupyter Notebook service we used, Google Colab. This was solved by switching to Rivanna. Additional challenges were faced with handling the “arrest” variable, as it required a pre-existing condition, potentially excluding participants who had been arrested but did not meet that condition. The project acknowledged this limitation by working with available data to form meaningful relationships. \n",
    "\n",
    "After cleaning and preparing the data, results showed some unexpected trends. When comparing arrest history and childhood income, it was observed that respondents who grew up either very poor or very rich had higher likelihoods of arrests than those from more middle-class backgrounds. Divorce rates did not seem to have an overall trend regarding the relationship between childhood income. For education levels, there was a strong positive correlation with childhood income, where higher income was generally associated with higher levels of education. \n"
   ]
  }
 ],
 "metadata": {
  "colab": {
   "provenance": []
  },
  "kernelspec": {
   "display_name": "Python 3 (ipykernel)",
   "language": "python",
   "name": "python3"
  },
  "language_info": {
   "codemirror_mode": {
    "name": "ipython",
    "version": 3
   },
   "file_extension": ".py",
   "mimetype": "text/x-python",
   "name": "python",
   "nbconvert_exporter": "python",
   "pygments_lexer": "ipython3",
   "version": "3.9.16"
  }
 },
 "nbformat": 4,
 "nbformat_minor": 1
}
