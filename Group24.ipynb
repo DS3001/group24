{
  "nbformat": 4,
  "nbformat_minor": 0,
  "metadata": {
    "colab": {
      "provenance": []
    },
    "kernelspec": {
      "name": "python3",
      "display_name": "Python 3"
    },
    "language_info": {
      "name": "python"
    }
  },
  "cells": [
    {
      "cell_type": "code",
      "execution_count": null,
      "metadata": {
        "id": "aEaOKJ16bJje"
      },
      "outputs": [],
      "source": [
        "Group 24 Project"
      ]
    },
    {
      "cell_type": "code",
      "source": [
        "Controversial Social Issues\n",
        "Media Exposure\n",
        "- tvhours\n",
        "\n",
        "Politic Involvement:\n",
        "- grouping ...\n",
        "\n",
        "\n",
        "Potential variables to use:\n",
        "- Tratot5: trauma last five years\n",
        "- Divorce5: divorce last five years\n",
        "- Hitage: beaten as a child or adult\n",
        "- Arrest: have you been picked up or charged by police\n",
        "- Income16: income in 2016\n",
        "\n",
        "\n",
        "\n",
        "\n"
      ],
      "metadata": {
        "id": "jRBPEeC0dJQQ"
      },
      "execution_count": null,
      "outputs": []
    }
  ]
}