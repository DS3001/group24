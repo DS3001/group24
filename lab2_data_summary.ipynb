{
 "cells": [
  {
   "cell_type": "markdown",
   "id": "2c8fc02d",
   "metadata": {},
   "source": [
    "**Data**\n",
    "<br>\n",
    "The dataset used for this project consists of relevant information for determining a patient’s likelihood to experience a stroke (and if a patient experiences a stroke). Upon importing the dataset, we cleaned it by converting all non-binary and categorical variables into binary values. We used smoking_status, avg_glucose_level, age, bmi, hypertension, heart_disease work_type, and gender as the key predictors in our model to determine whether or not a patient experiences a stroke. We chose most of these variables based on the obvious health relations with stroke likelihood. After adjusting our model and running it with several other combinations for predictors, we found that work_type and gender surprisingly made our model more accurate. The table below lists and summarizes all of the relevant columns in our analysis, as well as our transformations to each variable. "
   ]
  },
  {
   "cell_type": "markdown",
   "id": "84f1e363",
   "metadata": {},
   "source": [
    "**Variable Summary**\n",
    "<br>\n",
    "\n",
    "|Variable name| Description|Variable values (original == transformed)|\n",
    "| ----------- | ---------- | --------------------------------------- |\n",
    "|smoking_status|Categorizes patients based on whether or not the respondent smokes, considers both historically and currently| formerly smoked == 0, never smoked == 1, Unknown == 2, smokes == 3|\n",
    "|avg_glucose_level|Lists the blood sugar level of each patient in numeric form|Unchanged|\n",
    "|age|Patient age in numeric form|Unchanged|\n",
    "|bmi|Body mass index of each respondent in numeric form|Unchanged|\n",
    "|hypertension|Categorizes patients on whether or not they have hypertension, binary|Unchanged (0 is does not have hypertension and 1 is has hypertension)|\n",
    "|heart_disease|Categorizes patients on whether or not they have heart disease, binary|Unchanged (0 is does not have heart disease and 1 is has heart disease)|\n",
    "|gender|Categorizes patients based on gender|Female == 0, Male == 1, Other == 2|\n",
    "|work_type|Patient’s employment type|0 == govt_job, 1 == self_employed, 2 == private, 3 == children, 4 == never_worked|\n",
    "|stroke|Whether or not the patient suffered a stroke during the same period|Unchanged (0 is did not experience a stroke and 1 is did experience a stroke)|\n",
    "\n",
    "\n",
    "\n",
    "\n",
    "\n",
    "\n",
    "\n",
    "\n",
    "\n",
    "\n",
    "\n",
    "\n",
    "\n",
    "\n"
   ]
  },
  {
   "cell_type": "markdown",
   "id": "92b50ee7",
   "metadata": {},
   "source": [
    "When looking at the bmi variable, we found 159 NaNs when computing value counts. We decided to drop the NaNs because we considered 159 out of 4087 rows a non-significant \n",
    "amount of data to drop since we ended up with 3928 rows, which was still sufficient for our modeling purposes.\n",
    "\n",
    "We had some challenges with understanding the work_type data. Since there was no proper codebook provided for this dataset, we were unclear what “children” meant. Based on context and our understanding, we figured that this was meant for stay-at-home parents. We had to clean the data by creating binaries/numerical representations of the column values. For example, continuing with work_type, the responses were “govt_job,” “self_employed,” “private,” “children,” and “never_worked.” To prepare for our analysis, we converted those values to 0, 1, 2, 3 and 4, respectively. We applied this process to other categorical variables used in our model."
   ]
  }
 ],
 "metadata": {
  "kernelspec": {
   "display_name": "Python 3 (ipykernel)",
   "language": "python",
   "name": "python3"
  },
  "language_info": {
   "codemirror_mode": {
    "name": "ipython",
    "version": 3
   },
   "file_extension": ".py",
   "mimetype": "text/x-python",
   "name": "python",
   "nbconvert_exporter": "python",
   "pygments_lexer": "ipython3",
   "version": "3.9.16"
  }
 },
 "nbformat": 4,
 "nbformat_minor": 5
}
